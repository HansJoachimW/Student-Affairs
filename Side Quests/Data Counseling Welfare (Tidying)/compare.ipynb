{
 "cells": [
  {
   "cell_type": "code",
   "execution_count": 18,
   "metadata": {},
   "outputs": [],
   "source": [
    "import pandas as pd\n",
    "import openpyxl\n",
    "import os"
   ]
  },
  {
   "cell_type": "code",
   "execution_count": 19,
   "metadata": {},
   "outputs": [],
   "source": [
    "df_post = pd.read_excel(\"Olahan Data Survey.xlsx\", sheet_name=\"Raw 2023\")"
   ]
  },
  {
   "cell_type": "code",
   "execution_count": 20,
   "metadata": {},
   "outputs": [],
   "source": [
    "output_folder = 'output_files'"
   ]
  },
  {
   "cell_type": "code",
   "execution_count": 21,
   "metadata": {},
   "outputs": [
    {
     "name": "stdout",
     "output_type": "stream",
     "text": [
      "Original file contains 1031 unique names.\n"
     ]
    }
   ],
   "source": [
    "original_names = set(df_post['name'].str.lower().dropna())  # Convert to lowercase for consistency\n",
    "\n",
    "print(f\"Original file contains {len(original_names)} unique names.\")"
   ]
  },
  {
   "cell_type": "code",
   "execution_count": 22,
   "metadata": {},
   "outputs": [
    {
     "name": "stdout",
     "output_type": "stream",
     "text": [
      "\n",
      "Checking file: 2023 new.xlsx\n",
      "  Sheet 'Critical Thinking': Name count mismatch! Original: 1031, Output: 1030\n",
      "    Names in original but not in output (1):\n",
      "alan akda krisdandi\n",
      "  Sheet 'Creativity-Innovative': Name count mismatch! Original: 1031, Output: 1029\n",
      "    Names in original but not in output (2):\n",
      "nyoman surya adi putra masna, vanessa rosalie lautan\n",
      "  Sheet 'Problem Solving': Name counts match (1031).\n",
      "  Sheet 'Decision Making': Name counts match (1031).\n",
      "  Sheet 'Berkomunikasi': Name counts match (1031).\n",
      "  Sheet 'Leadership': Name count mismatch! Original: 1031, Output: 1030\n",
      "    Names in original but not in output (1):\n",
      "juan davin\n",
      "  Sheet 'Initiative': Name counts match (1031).\n",
      "  Sheet 'Learning Performance': Name counts match (1031).\n",
      "  Sheet 'Ethical Communication': Name counts match (1031).\n",
      "  Sheet 'Lifelong Learning': Name counts match (1031).\n"
     ]
    }
   ],
   "source": [
    "# Iterate through all Excel files in the output folder\n",
    "for file_name in os.listdir(output_folder):\n",
    "    if file_name.endswith('.xlsx'):\n",
    "        output_file_path = os.path.join(output_folder, file_name)\n",
    "        sheets_output = pd.read_excel(output_file_path, sheet_name=None)  # Read all sheets as a dictionary\n",
    "\n",
    "        print(f\"\\nChecking file: {file_name}\")\n",
    "        for sheet_name, df_output in sheets_output.items():\n",
    "            if 'Student Name' not in df_output.columns:\n",
    "                print(f\"  Sheet '{sheet_name}': Skipping, no 'Student Name' column found.\")\n",
    "                continue\n",
    "\n",
    "            # Get the names in the current sheet\n",
    "            output_names = set(df_output['Student Name'].str.lower().dropna())  # Convert to lowercase for consistency\n",
    "\n",
    "            # Check for mismatched counts\n",
    "            if len(output_names) != len(original_names):\n",
    "                print(f\"  Sheet '{sheet_name}': Name count mismatch! Original: {len(original_names)}, Output: {len(output_names)}\")\n",
    "\n",
    "                # Find missing names in both directions\n",
    "                missing_in_output = original_names - output_names\n",
    "                missing_in_original = output_names - original_names\n",
    "\n",
    "                # Print mismatched names\n",
    "                if missing_in_output:\n",
    "                    print(f\"    Names in original but not in output ({len(missing_in_output)}):\")\n",
    "                    print(\", \".join(sorted(missing_in_output)))\n",
    "                if missing_in_original:\n",
    "                    print(f\"    Names in output but not in original ({len(missing_in_original)}):\")\n",
    "                    print(\", \".join(sorted(missing_in_original)))\n",
    "            else:\n",
    "                print(f\"  Sheet '{sheet_name}': Name counts match ({len(original_names)}).\")"
   ]
  }
 ],
 "metadata": {
  "kernelspec": {
   "display_name": "Python 3",
   "language": "python",
   "name": "python3"
  },
  "language_info": {
   "codemirror_mode": {
    "name": "ipython",
    "version": 3
   },
   "file_extension": ".py",
   "mimetype": "text/x-python",
   "name": "python",
   "nbconvert_exporter": "python",
   "pygments_lexer": "ipython3",
   "version": "3.11.0"
  }
 },
 "nbformat": 4,
 "nbformat_minor": 2
}
