{
 "cells": [
  {
   "cell_type": "code",
   "execution_count": 105,
   "metadata": {},
   "outputs": [],
   "source": [
    "import pandas as pd\n",
    "import os"
   ]
  },
  {
   "cell_type": "code",
   "execution_count": 106,
   "metadata": {},
   "outputs": [],
   "source": [
    "file_2023 = \"2023.xlsx\"\n",
    "file_2024 = \"2024.xlsx\"\n",
    "\n",
    "data_2023 = pd.read_excel(file_2023)\n",
    "data_2024 = pd.read_excel(file_2024)"
   ]
  },
  {
   "cell_type": "code",
   "execution_count": 107,
   "metadata": {},
   "outputs": [],
   "source": [
    "def process_answers(row):\n",
    "    categories_to_replace = [\"Sangat Tidak Sesuai\", \"Tidak Sesuai\", \"Netral\", \"Sesuai\", \"Sangat Sesuai\"]\n",
    "\n",
    "    if row[\"answer_text\"] in categories_to_replace:\n",
    "        if row[\"answer_text\"] == \"Sangat Tidak Sesuai\":\n",
    "            return \"1\"\n",
    "        elif row[\"answer_text\"] == \"Tidak Sesuai\":\n",
    "            return \"2\"\n",
    "        elif row[\"answer_text\"] == \"Netral\":\n",
    "            return \"3\"\n",
    "        elif row[\"answer_text\"] == \"Sesuai\":\n",
    "            return \"4\"\n",
    "        elif row[\"answer_text\"] == \"Sangat Sesuai\":\n",
    "            return \"5\"\n",
    "    else:\n",
    "        return row[\"answer_text\"]  # Use text for non-categorized answers"
   ]
  },
  {
   "cell_type": "code",
   "execution_count": 108,
   "metadata": {},
   "outputs": [],
   "source": [
    "data_combined = pd.concat([data_2023, data_2024], ignore_index=True)"
   ]
  },
  {
   "cell_type": "code",
   "execution_count": 109,
   "metadata": {},
   "outputs": [],
   "source": [
    "data_combined['column_name'] = data_combined['section_name'] + \" - \" + data_combined['question_name']"
   ]
  },
  {
   "cell_type": "code",
   "execution_count": 110,
   "metadata": {},
   "outputs": [],
   "source": [
    "data_combined[\"processed_answer\"] = data_combined.apply(process_answers, axis=1)"
   ]
  },
  {
   "cell_type": "code",
   "execution_count": 111,
   "metadata": {},
   "outputs": [],
   "source": [
    "data_combined[\"processed_answer\"] = data_combined[\"processed_answer\"].astype(str)"
   ]
  },
  {
   "cell_type": "code",
   "execution_count": 112,
   "metadata": {},
   "outputs": [],
   "source": [
    "pivot_table = data_combined.pivot_table(\n",
    "    index=[\"nama_survey\", \"name\", \"nis\", \"period\", \"prodi\"],\n",
    "    columns=\"column_name\",\n",
    "    values=\"processed_answer\",\n",
    "    aggfunc=lambda x: ' | '.join(filter(pd.notnull, x))  # Concatenate non-null values\n",
    ")"
   ]
  },
  {
   "cell_type": "code",
   "execution_count": 113,
   "metadata": {},
   "outputs": [],
   "source": [
    "pivot_table.reset_index(inplace=True)"
   ]
  },
  {
   "cell_type": "code",
   "execution_count": 115,
   "metadata": {},
   "outputs": [],
   "source": [
    "target_column = \"Pengalaman - 1. Saya pernah dan/atau sedang terlibat dalam organisasi\"\n",
    "\n",
    "if target_column in pivot_table.columns:\n",
    "    # Extract unique values from the target column, split them by '|', and flatten the result\n",
    "    unique_values = set(\n",
    "        value.strip()\n",
    "        for cell in pivot_table[target_column].dropna()\n",
    "        for value in str(cell).split('|')\n",
    "    )\n",
    "\n",
    "    # Step 2: Add new columns for each unique value\n",
    "    for unique_value in unique_values:\n",
    "        pivot_table[f\"{unique_value}\"] = pivot_table[target_column].apply(\n",
    "            lambda x: int(unique_value in str(x).split('|')) if pd.notnull(x) else 0\n",
    "        )\n",
    "        \n",
    "    # Step 3: Move new columns after 'prodi'\n",
    "    new_columns = [f\"{unique_value}\" for unique_value in unique_values]\n",
    "    cols = list(pivot_table.columns)\n",
    "\n",
    "    # Find the position of 'prodi'\n",
    "    prodi_index = cols.index(\"prodi\")\n",
    "\n",
    "    # Reorder columns to place new columns immediately after 'prodi'\n",
    "    reordered_columns = cols[:prodi_index + 1] + new_columns + cols[prodi_index + 1:-len(new_columns)]\n",
    "    pivot_table = pivot_table[reordered_columns]"
   ]
  },
  {
   "cell_type": "code",
   "execution_count": 116,
   "metadata": {},
   "outputs": [],
   "source": [
    "pivot_table.to_excel(\"processed_survey_data.xlsx\", index=False)"
   ]
  }
 ],
 "metadata": {
  "kernelspec": {
   "display_name": "Python 3",
   "language": "python",
   "name": "python3"
  },
  "language_info": {
   "codemirror_mode": {
    "name": "ipython",
    "version": 3
   },
   "file_extension": ".py",
   "mimetype": "text/x-python",
   "name": "python",
   "nbconvert_exporter": "python",
   "pygments_lexer": "ipython3",
   "version": "3.11.0"
  }
 },
 "nbformat": 4,
 "nbformat_minor": 2
}
