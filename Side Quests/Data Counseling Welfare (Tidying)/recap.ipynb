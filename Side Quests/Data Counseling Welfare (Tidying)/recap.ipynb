{
 "cells": [
  {
   "cell_type": "code",
   "execution_count": 4,
   "metadata": {},
   "outputs": [],
   "source": [
    "import pandas as pd\n",
    "import openpyxl\n",
    "import re"
   ]
  },
  {
   "cell_type": "code",
   "execution_count": 5,
   "metadata": {},
   "outputs": [],
   "source": [
    "file1 = pd.read_excel(r\"output_files/2023_new.xlsx\", sheet_name=None)\n",
    "file2 = pd.read_excel(\"Template.xlsx\", sheet_name=None)"
   ]
  },
  {
   "cell_type": "code",
   "execution_count": 6,
   "metadata": {},
   "outputs": [],
   "source": [
    "# List of names to exclude\n",
    "excluded_names = {\n",
    "    'alan akda krisdandi',\n",
    "    'nyoman surya adi putra masna',\n",
    "    'vanessa rosalie lautan',\n",
    "    'juan davin'\n",
    "}"
   ]
  },
  {
   "cell_type": "code",
   "execution_count": 7,
   "metadata": {},
   "outputs": [],
   "source": [
    "def exclude_names(df, name_column):\n",
    "    # Convert names to lowercase for comparison consistency\n",
    "    return df[~df[name_column].str.lower().isin(excluded_names)]"
   ]
  },
  {
   "cell_type": "code",
   "execution_count": 8,
   "metadata": {},
   "outputs": [],
   "source": [
    "merged_sheets = {}"
   ]
  },
  {
   "cell_type": "code",
   "execution_count": 9,
   "metadata": {},
   "outputs": [
    {
     "name": "stdout",
     "output_type": "stream",
     "text": [
      "Processing sheet: Critical Thinking\n",
      "Matches: 977\n",
      "No Matches: 0\n",
      "Processing sheet: Creativity-Innovative\n",
      "Matches: 977\n",
      "No Matches: 0\n",
      "Processing sheet: Problem Solving\n",
      "Matches: 977\n",
      "No Matches: 0\n",
      "Processing sheet: Decision Making\n",
      "Matches: 977\n",
      "No Matches: 0\n",
      "Processing sheet: Berkomunikasi\n",
      "Matches: 977\n",
      "No Matches: 0\n",
      "Processing sheet: Leadership\n",
      "Matches: 977\n",
      "No Matches: 0\n",
      "Processing sheet: Initiative\n",
      "Matches: 977\n",
      "No Matches: 0\n",
      "Processing sheet: Learning Performance\n",
      "Matches: 977\n",
      "No Matches: 0\n",
      "Processing sheet: Ethical Communication\n",
      "Matches: 977\n",
      "No Matches: 0\n",
      "Processing sheet: Lifelong Learning\n",
      "Matches: 977\n",
      "No Matches: 0\n"
     ]
    }
   ],
   "source": [
    "# Process each sheet\n",
    "for sheet_name in file1.keys():\n",
    "    print(f\"Processing sheet: {sheet_name}\")\n",
    "\n",
    "    # Get the DataFrame for the current sheet from both files\n",
    "    df1 = file1[sheet_name]\n",
    "    df2 = file2[sheet_name]\n",
    "    \n",
    "    if 'Nama' in df1.columns:\n",
    "        df1 = exclude_names(df1, 'Nama')\n",
    "        \n",
    "    if 'Nama' in df2.columns:\n",
    "        df2 = exclude_names(df2, 'Nama')\n",
    "\n",
    "    # Ensure the 'NIS' column exists in both DataFrames\n",
    "    if 'NIS' not in df1.columns or 'NIS' not in df2.columns:\n",
    "        raise KeyError(f\"The 'NIS' column is missing in the sheet '{sheet_name}'.\")\n",
    "\n",
    "    # Find common `NIS` values\n",
    "    nis_in_both = set(df1['NIS']).intersection(set(df2['NIS']))\n",
    "\n",
    "    # Filter rows where `NIS` exists in both files\n",
    "    filtered_df1 = df1[df1['NIS'].isin(nis_in_both)]\n",
    "    filtered_df2 = df2[df2['NIS'].isin(nis_in_both)]\n",
    "\n",
    "    # Sort both DataFrames by `NIS` to align rows\n",
    "    filtered_df1 = filtered_df1.sort_values(by='NIS').reset_index(drop=True)\n",
    "    filtered_df2 = filtered_df2.sort_values(by='NIS').reset_index(drop=True)\n",
    "    \n",
    "    # Compare \"Student Name\" with \"Nama\"\n",
    "    matches = 0\n",
    "    no_matches = 0\n",
    "    no_match_rows = []\n",
    "    for index, (nis, student_name, nama) in enumerate(zip(filtered_df1['NIS'], filtered_df1['Student Name'], filtered_df2['Nama'])):\n",
    "        # if str(student_name).lower() == str(nama).lower():\n",
    "        #     matches += 1\n",
    "        if nis == nis:\n",
    "            matches += 1\n",
    "        else:\n",
    "            no_matches += 1\n",
    "            no_match_rows.append((nis, student_name, nama))\n",
    "\n",
    "    # Print the match results for the current sheet\n",
    "    print(f\"Matches: {matches}\")\n",
    "    print(f\"No Matches: {no_matches}\")\n",
    "    \n",
    "    if no_match_rows:\n",
    "        print(f\"\\nRows with no matches in sheet '{sheet_name}':\")\n",
    "        for nis, student_name, nama in no_match_rows:\n",
    "            print(f\"NIS: {nis}, Student Name: '{student_name}', Nama: '{nama}'\")\n",
    "    \n",
    "    # Concatenate the DataFrames side by side\n",
    "    merged_df = pd.concat([filtered_df1.reset_index(drop=True), filtered_df2.reset_index(drop=True)], axis=1)\n",
    "\n",
    "    # Store the result in the dictionary\n",
    "    merged_sheets[sheet_name] = merged_df"
   ]
  },
  {
   "cell_type": "code",
   "execution_count": 10,
   "metadata": {},
   "outputs": [
    {
     "name": "stdout",
     "output_type": "stream",
     "text": [
      "All merged sheets saved to merged_output_per_sheet.xlsx\n"
     ]
    }
   ],
   "source": [
    "output_file = 'merged_output_per_sheet.xlsx'\n",
    "with pd.ExcelWriter(output_file) as writer:\n",
    "    for sheet_name, merged_df in merged_sheets.items():\n",
    "        merged_df.to_excel(writer, sheet_name=sheet_name, index=False)\n",
    "\n",
    "print(f\"All merged sheets saved to {output_file}\")"
   ]
  }
 ],
 "metadata": {
  "kernelspec": {
   "display_name": "Python 3",
   "language": "python",
   "name": "python3"
  },
  "language_info": {
   "codemirror_mode": {
    "name": "ipython",
    "version": 3
   },
   "file_extension": ".py",
   "mimetype": "text/x-python",
   "name": "python",
   "nbconvert_exporter": "python",
   "pygments_lexer": "ipython3",
   "version": "3.11.0"
  }
 },
 "nbformat": 4,
 "nbformat_minor": 2
}
