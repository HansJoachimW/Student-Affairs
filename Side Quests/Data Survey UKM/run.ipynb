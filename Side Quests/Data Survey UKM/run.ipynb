{
 "cells": [
  {
   "cell_type": "code",
   "execution_count": 43,
   "metadata": {},
   "outputs": [],
   "source": [
    "import pandas as pd\n",
    "import openpyxl\n",
    "import os"
   ]
  },
  {
   "cell_type": "code",
   "execution_count": 44,
   "metadata": {},
   "outputs": [],
   "source": [
    "df = pd.read_excel(\"survey_data.xlsx\")"
   ]
  },
  {
   "cell_type": "code",
   "execution_count": 45,
   "metadata": {},
   "outputs": [],
   "source": [
    "df['role'] = None"
   ]
  },
  {
   "cell_type": "code",
   "execution_count": 46,
   "metadata": {},
   "outputs": [],
   "source": [
    "df.loc[\n",
    "    df['question_name'].str.contains('Apakah anda Pengurus atau Anggota?', case=False), \n",
    "    'role'\n",
    "] = df['answer_text'].apply(\n",
    "    lambda x: 'Anggota UKM' if x == 'Anggota' else 'Pengurus UKM' if x == 'Pengurus UKM' else None\n",
    ")"
   ]
  },
  {
   "cell_type": "code",
   "execution_count": 47,
   "metadata": {},
   "outputs": [],
   "source": [
    "df['role'] = df.groupby('name', group_keys=False)['role'].apply(lambda group: group.ffill().bfill())"
   ]
  },
  {
   "cell_type": "code",
   "execution_count": 49,
   "metadata": {},
   "outputs": [],
   "source": [
    "section_index = df.columns.get_loc('section_name')\n",
    "df.insert(section_index + 1, 'role', df.pop('role'))"
   ]
  },
  {
   "cell_type": "code",
   "execution_count": 50,
   "metadata": {},
   "outputs": [
    {
     "data": {
      "text/html": [
       "<div>\n",
       "<style scoped>\n",
       "    .dataframe tbody tr th:only-of-type {\n",
       "        vertical-align: middle;\n",
       "    }\n",
       "\n",
       "    .dataframe tbody tr th {\n",
       "        vertical-align: top;\n",
       "    }\n",
       "\n",
       "    .dataframe thead th {\n",
       "        text-align: right;\n",
       "    }\n",
       "</style>\n",
       "<table border=\"1\" class=\"dataframe\">\n",
       "  <thead>\n",
       "    <tr style=\"text-align: right;\">\n",
       "      <th></th>\n",
       "      <th>period</th>\n",
       "      <th>nama_survey</th>\n",
       "      <th>prodi</th>\n",
       "      <th>faculty</th>\n",
       "      <th>name</th>\n",
       "      <th>nis</th>\n",
       "      <th>ukm</th>\n",
       "      <th>section_name</th>\n",
       "      <th>role</th>\n",
       "      <th>question_name</th>\n",
       "      <th>answer_text</th>\n",
       "      <th>answer</th>\n",
       "      <th>text_atch</th>\n",
       "      <th>tanggal_input</th>\n",
       "    </tr>\n",
       "  </thead>\n",
       "  <tbody>\n",
       "    <tr>\n",
       "      <th>0</th>\n",
       "      <td>20241</td>\n",
       "      <td>Post-Survey Unit Kegiatan Mahasiswa 2024/2025 ...</td>\n",
       "      <td>ACC</td>\n",
       "      <td>SBM</td>\n",
       "      <td>Aisima Karundeng</td>\n",
       "      <td>106042410049</td>\n",
       "      <td>Tabletop (Game)</td>\n",
       "      <td>Student Development</td>\n",
       "      <td>Anggota UKM</td>\n",
       "      <td>Setelah mengikuti kegiatan ukm kemampuan leade...</td>\n",
       "      <td>Baik</td>\n",
       "      <td>0</td>\n",
       "      <td>NaN</td>\n",
       "      <td>2024-12-29</td>\n",
       "    </tr>\n",
       "    <tr>\n",
       "      <th>1</th>\n",
       "      <td>20241</td>\n",
       "      <td>Post-Survey Unit Kegiatan Mahasiswa 2024/2025 ...</td>\n",
       "      <td>ACC</td>\n",
       "      <td>SBM</td>\n",
       "      <td>Aisima Karundeng</td>\n",
       "      <td>106042410049</td>\n",
       "      <td>Tabletop (Game)</td>\n",
       "      <td>Student Development</td>\n",
       "      <td>Anggota UKM</td>\n",
       "      <td>Setelah mengikuti UKM kemampuan manajemen wakt...</td>\n",
       "      <td>Sangat Baik</td>\n",
       "      <td>0</td>\n",
       "      <td>NaN</td>\n",
       "      <td>2024-12-29</td>\n",
       "    </tr>\n",
       "    <tr>\n",
       "      <th>2</th>\n",
       "      <td>20241</td>\n",
       "      <td>Post-Survey Unit Kegiatan Mahasiswa 2024/2025 ...</td>\n",
       "      <td>ACC</td>\n",
       "      <td>SBM</td>\n",
       "      <td>Aisima Karundeng</td>\n",
       "      <td>106042410049</td>\n",
       "      <td>Tabletop (Game)</td>\n",
       "      <td>Student Development</td>\n",
       "      <td>Anggota UKM</td>\n",
       "      <td>Setelah mengikuti kegiatan UKM kemampuan komun...</td>\n",
       "      <td>Sangat Baik</td>\n",
       "      <td>0</td>\n",
       "      <td>NaN</td>\n",
       "      <td>2024-12-29</td>\n",
       "    </tr>\n",
       "    <tr>\n",
       "      <th>3</th>\n",
       "      <td>20241</td>\n",
       "      <td>Post-Survey Unit Kegiatan Mahasiswa 2024/2025 ...</td>\n",
       "      <td>ACC</td>\n",
       "      <td>SBM</td>\n",
       "      <td>Aisima Karundeng</td>\n",
       "      <td>106042410049</td>\n",
       "      <td>Tabletop (Game)</td>\n",
       "      <td>Layanan Unit Kegiatan Mahasiswa</td>\n",
       "      <td>Anggota UKM</td>\n",
       "      <td>Apakah anda Pengurus atau Anggota?</td>\n",
       "      <td>Anggota</td>\n",
       "      <td>0</td>\n",
       "      <td>NaN</td>\n",
       "      <td>2024-12-29</td>\n",
       "    </tr>\n",
       "    <tr>\n",
       "      <th>4</th>\n",
       "      <td>20241</td>\n",
       "      <td>Post-Survey Unit Kegiatan Mahasiswa 2024/2025 ...</td>\n",
       "      <td>ACC</td>\n",
       "      <td>SBM</td>\n",
       "      <td>Aisima Karundeng</td>\n",
       "      <td>106042410049</td>\n",
       "      <td>Tabletop (Game)</td>\n",
       "      <td>Layanan Pengurus UKM Terhadap Anggota</td>\n",
       "      <td>Anggota UKM</td>\n",
       "      <td>Bagaimana Anda menilai kualitas pelaksanaan ke...</td>\n",
       "      <td>Sangat Baik</td>\n",
       "      <td>5</td>\n",
       "      <td>NaN</td>\n",
       "      <td>2024-12-29</td>\n",
       "    </tr>\n",
       "  </tbody>\n",
       "</table>\n",
       "</div>"
      ],
      "text/plain": [
       "   period                                        nama_survey prodi faculty  \\\n",
       "0   20241  Post-Survey Unit Kegiatan Mahasiswa 2024/2025 ...   ACC     SBM   \n",
       "1   20241  Post-Survey Unit Kegiatan Mahasiswa 2024/2025 ...   ACC     SBM   \n",
       "2   20241  Post-Survey Unit Kegiatan Mahasiswa 2024/2025 ...   ACC     SBM   \n",
       "3   20241  Post-Survey Unit Kegiatan Mahasiswa 2024/2025 ...   ACC     SBM   \n",
       "4   20241  Post-Survey Unit Kegiatan Mahasiswa 2024/2025 ...   ACC     SBM   \n",
       "\n",
       "               name           nis              ukm  \\\n",
       "0  Aisima Karundeng  106042410049  Tabletop (Game)   \n",
       "1  Aisima Karundeng  106042410049  Tabletop (Game)   \n",
       "2  Aisima Karundeng  106042410049  Tabletop (Game)   \n",
       "3  Aisima Karundeng  106042410049  Tabletop (Game)   \n",
       "4  Aisima Karundeng  106042410049  Tabletop (Game)   \n",
       "\n",
       "                            section_name         role  \\\n",
       "0                    Student Development  Anggota UKM   \n",
       "1                    Student Development  Anggota UKM   \n",
       "2                    Student Development  Anggota UKM   \n",
       "3        Layanan Unit Kegiatan Mahasiswa  Anggota UKM   \n",
       "4  Layanan Pengurus UKM Terhadap Anggota  Anggota UKM   \n",
       "\n",
       "                                       question_name  answer_text  answer  \\\n",
       "0  Setelah mengikuti kegiatan ukm kemampuan leade...         Baik       0   \n",
       "1  Setelah mengikuti UKM kemampuan manajemen wakt...  Sangat Baik       0   \n",
       "2  Setelah mengikuti kegiatan UKM kemampuan komun...  Sangat Baik       0   \n",
       "3                 Apakah anda Pengurus atau Anggota?      Anggota       0   \n",
       "4  Bagaimana Anda menilai kualitas pelaksanaan ke...  Sangat Baik       5   \n",
       "\n",
       "  text_atch tanggal_input  \n",
       "0       NaN    2024-12-29  \n",
       "1       NaN    2024-12-29  \n",
       "2       NaN    2024-12-29  \n",
       "3       NaN    2024-12-29  \n",
       "4       NaN    2024-12-29  "
      ]
     },
     "execution_count": 50,
     "metadata": {},
     "output_type": "execute_result"
    }
   ],
   "source": [
    "df.head()"
   ]
  },
  {
   "cell_type": "code",
   "execution_count": 51,
   "metadata": {},
   "outputs": [],
   "source": [
    "df.to_excel('output.xlsx', index=False)"
   ]
  }
 ],
 "metadata": {
  "kernelspec": {
   "display_name": "Python 3",
   "language": "python",
   "name": "python3"
  },
  "language_info": {
   "codemirror_mode": {
    "name": "ipython",
    "version": 3
   },
   "file_extension": ".py",
   "mimetype": "text/x-python",
   "name": "python",
   "nbconvert_exporter": "python",
   "pygments_lexer": "ipython3",
   "version": "3.11.0"
  }
 },
 "nbformat": 4,
 "nbformat_minor": 2
}
