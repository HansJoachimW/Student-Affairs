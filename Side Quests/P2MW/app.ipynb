{
 "cells": [
  {
   "cell_type": "code",
   "execution_count": 1,
   "metadata": {},
   "outputs": [],
   "source": [
    "import tabula\n",
    "import pandas as pd"
   ]
  },
  {
   "cell_type": "code",
   "execution_count": 2,
   "metadata": {},
   "outputs": [],
   "source": [
    "pdf_path = \"surat_penerima_bantuan_program_pembinaan_mahasiswa_wirausaha_(p2mw)_2024_1714197194.pdf\""
   ]
  },
  {
   "cell_type": "code",
   "execution_count": 3,
   "metadata": {},
   "outputs": [
    {
     "name": "stderr",
     "output_type": "stream",
     "text": [
      "Failed to import jpype dependencies. Fallback to subprocess.\n",
      "No module named 'jpype'\n"
     ]
    },
    {
     "name": "stdout",
     "output_type": "stream",
     "text": [
      "            No.  Kode PT                            Perguruan Tinggi  \\\n",
      "0     LLDIKTI I      NaN                                         NaN   \n",
      "1             1  11008.0                      Universitas Medan Area   \n",
      "2             2  11033.0                 Universitas Prima Indonesia   \n",
      "3             3  11046.0                   Universitas Potensi Utama   \n",
      "4             4  11027.0  Universitas Muslim Nusantara\\rAl-Washliyah   \n",
      "...         ...      ...                                         ...   \n",
      "2029       2013   1012.0                   Universitas Sam Ratulangi   \n",
      "2030       2014   1012.0                   Universitas Sam Ratulangi   \n",
      "2031       2015   1019.0                       Universitas Brawijaya   \n",
      "2032       2016   1016.0                         Universitas Mataram   \n",
      "2033       2017   1001.0                     Universitas Gadjah Mada   \n",
      "\n",
      "                                             Nama Usaha  \\\n",
      "0                                                   NaN   \n",
      "1                  Anti Nyamuk Herbamos Herbal Mosquito   \n",
      "2        Aplikasi Marketplace Untuk Reparasi Elektronik   \n",
      "3                                               AQUAZEN   \n",
      "4                                   Bakso Pelangi Sehat   \n",
      "...                                                 ...   \n",
      "2029  Wusa Garden Nila Bioflok Budidaya Nila Berkual...   \n",
      "2030  Xanthea Delight Minuman Sumber Antioksidan\\rKe...   \n",
      "2031                                             Your24   \n",
      "2032                                          Zenergify   \n",
      "2033                 ZenGrill Jasa Penyewaan Alat Grill   \n",
      "\n",
      "            Nama Ketua\\rKelompok                NIM  \\\n",
      "0                            NaN                NaN   \n",
      "1                 Renika Hutapea          228320162   \n",
      "2             Grecilya Johansson       233303040284   \n",
      "3                   Lisa Sundari         2151000032   \n",
      "4              Dinda Dwi Kartika          224114035   \n",
      "...                          ...                ...   \n",
      "2029   Theoterra Pitray\\rWongkar       210211060067   \n",
      "2030    Rebecca Sharon\\rMamondol       220611020714   \n",
      "2031           Akza Yusri Rafiqi  22502090711101\\r6   \n",
      "2032       Fani Farhan\\rRamadhan          F1B022047   \n",
      "2033  Nanda Hapidzah\\rNurhasanah  22498291Tk5465\\r0   \n",
      "\n",
      "                                 Kategori      Tahapan\\rUsaha  \n",
      "0                                     NaN                 NaN  \n",
      "1       Manufaktur dan\\rTeknologi Terapan       Tahapan\\rAwal  \n",
      "2                          Bisnis Digital       Tahapan\\rAwal  \n",
      "3     Industri Kreatif, Seni,\\rdan Budaya       Tahapan\\rAwal  \n",
      "4                    Makanan dan\\rMinuman  Tahapan\\rBertumbuh  \n",
      "...                                   ...                 ...  \n",
      "2029                             Budidaya  Tahapan\\rBertumbuh  \n",
      "2030                 Makanan dan\\rMinuman       Tahapan\\rAwal  \n",
      "2031    Manufaktur dan\\rTeknologi Terapan  Tahapan\\rBertumbuh  \n",
      "2032                       Bisnis Digital       Tahapan\\rAwal  \n",
      "2033    Jasa, Pariwisata dan\\rPerdagangan       Tahapan\\rAwal  \n",
      "\n",
      "[2034 rows x 8 columns]\n"
     ]
    }
   ],
   "source": [
    "tables = tabula.read_pdf(pdf_path, pages='4-169', multiple_tables=True, lattice=True)\n",
    "\n",
    "df = pd.concat(tables, ignore_index=True)\n",
    "\n",
    "print(df)"
   ]
  },
  {
   "cell_type": "code",
   "execution_count": 4,
   "metadata": {},
   "outputs": [],
   "source": [
    "df.to_excel(\"extracted_table.xlsx\", index=False)"
   ]
  }
 ],
 "metadata": {
  "kernelspec": {
   "display_name": "Python 3",
   "language": "python",
   "name": "python3"
  },
  "language_info": {
   "codemirror_mode": {
    "name": "ipython",
    "version": 3
   },
   "file_extension": ".py",
   "mimetype": "text/x-python",
   "name": "python",
   "nbconvert_exporter": "python",
   "pygments_lexer": "ipython3",
   "version": "3.11.0"
  }
 },
 "nbformat": 4,
 "nbformat_minor": 2
}
