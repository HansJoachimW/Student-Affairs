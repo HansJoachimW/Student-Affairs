{
 "cells": [
  {
   "cell_type": "code",
   "execution_count": 1,
   "metadata": {},
   "outputs": [],
   "source": [
    "import pandas as pd"
   ]
  },
  {
   "cell_type": "code",
   "execution_count": 4,
   "metadata": {},
   "outputs": [],
   "source": [
    "def split_excel_by_major(input_file, output_file):\n",
    "    # Load the spreadsheet\n",
    "    df = pd.read_excel(input_file)\n",
    "    \n",
    "    # Filter out rows where 'Level' contains 'Internal'\n",
    "    df_filtered = df[~df['Scope'].str.contains('Internal', na=False)]\n",
    "    \n",
    "    # Get unique values in the 'Major' column\n",
    "    unique_majors = df_filtered['Major'].unique()\n",
    "    \n",
    "    # Create a dictionary to store dataframes\n",
    "    writer = pd.ExcelWriter(output_file, engine='xlsxwriter')\n",
    "    \n",
    "    for major in unique_majors:\n",
    "        df_major = df_filtered[df_filtered['Major'] == major]\n",
    "        df_major.to_excel(writer, sheet_name=str(major), index=False)\n",
    "        print(f\"Added sheet: {major}\")\n",
    "    \n",
    "    writer.close()\n",
    "    print(f\"Saved combined file: {output_file}\")"
   ]
  },
  {
   "cell_type": "code",
   "execution_count": null,
   "metadata": {},
   "outputs": [
    {
     "name": "stdout",
     "output_type": "stream",
     "text": [
      "Added sheet: ISB\n",
      "Added sheet: PSY\n",
      "Added sheet: VCD\n",
      "Added sheet: ARS\n",
      "Added sheet: IBM\n",
      "Added sheet: BMI\n",
      "Added sheet: COM\n",
      "Added sheet: IMT\n",
      "Added sheet: MED\n",
      "Added sheet: FPD\n",
      "Added sheet: HTEB\n",
      "Added sheet: FTP\n",
      "Added sheet: DEM\n",
      "Added sheet: ACC\n",
      "Added sheet: CBZ\n",
      "Saved combined file: output2.xlsx\n"
     ]
    }
   ],
   "source": [
    "split_excel_by_major(\"input3.xlsx\", \"output3.xlsx\")"
   ]
  }
 ],
 "metadata": {
  "kernelspec": {
   "display_name": "Python 3",
   "language": "python",
   "name": "python3"
  },
  "language_info": {
   "codemirror_mode": {
    "name": "ipython",
    "version": 3
   },
   "file_extension": ".py",
   "mimetype": "text/x-python",
   "name": "python",
   "nbconvert_exporter": "python",
   "pygments_lexer": "ipython3",
   "version": "3.11.0"
  }
 },
 "nbformat": 4,
 "nbformat_minor": 2
}
