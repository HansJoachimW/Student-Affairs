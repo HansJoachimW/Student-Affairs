{
 "cells": [
  {
   "cell_type": "code",
   "execution_count": 9,
   "metadata": {},
   "outputs": [],
   "source": [
    "import pandas as pd"
   ]
  },
  {
   "cell_type": "code",
   "execution_count": 10,
   "metadata": {},
   "outputs": [],
   "source": [
    "file_path = r'C:\\Users\\hansj\\OneDrive\\Documents\\Student Affairs\\Projects\\Raw\\PILMAPRES TERBARU ANGKATAN 2023.xlsx'\n",
    "df = pd.read_excel(file_path)"
   ]
  },
  {
   "cell_type": "code",
   "execution_count": 11,
   "metadata": {},
   "outputs": [],
   "source": [
    "df['Start Date'] = pd.to_datetime(df['Start Date'], errors='coerce')"
   ]
  },
  {
   "cell_type": "code",
   "execution_count": 12,
   "metadata": {},
   "outputs": [],
   "source": [
    "months = {\n",
    "    \"August 2023\": (2023, 8),\n",
    "    \"September 2023\": (2023, 9),\n",
    "    \"October 2023\": (2023, 10),\n",
    "    \"November 2023\": (2023, 11)\n",
    "}"
   ]
  },
  {
   "cell_type": "code",
   "execution_count": 13,
   "metadata": {},
   "outputs": [],
   "source": [
    "filtered_dfs = {name: df[(df['Start Date'].dt.year == year) & (df['Start Date'].dt.month == month) & (df['Status'].str.contains(\"Juara\", case=False, na=False))] for name, (year, month) in months.items()}"
   ]
  },
  {
   "cell_type": "code",
   "execution_count": 14,
   "metadata": {},
   "outputs": [],
   "source": [
    "with pd.ExcelWriter('filtered_competitions_2023.xlsx') as writer:\n",
    "    for sheet_name, data in filtered_dfs.items():\n",
    "        data.to_excel(writer, sheet_name=sheet_name, index=False)"
   ]
  }
 ],
 "metadata": {
  "kernelspec": {
   "display_name": "Python 3",
   "language": "python",
   "name": "python3"
  },
  "language_info": {
   "codemirror_mode": {
    "name": "ipython",
    "version": 3
   },
   "file_extension": ".py",
   "mimetype": "text/x-python",
   "name": "python",
   "nbconvert_exporter": "python",
   "pygments_lexer": "ipython3",
   "version": "3.11.0"
  }
 },
 "nbformat": 4,
 "nbformat_minor": 2
}
