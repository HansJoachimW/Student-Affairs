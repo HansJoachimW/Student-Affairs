{
 "cells": [
  {
   "cell_type": "code",
   "execution_count": 31,
   "metadata": {},
   "outputs": [],
   "source": [
    "import pandas as pd\n",
    "import glob\n",
    "import os"
   ]
  },
  {
   "cell_type": "code",
   "execution_count": 32,
   "metadata": {},
   "outputs": [],
   "source": [
    "path = r'C:\\Users\\hansj\\OneDrive\\Documents\\Student Affairs\\Projects\\Tarik Data KP\\input (clear on finish)'\n",
    "all_files = glob.glob(path + r\"\\Report Monitoring Credit Point  Ciputra Education Digital eXperience*.xlsx\")"
   ]
  },
  {
   "cell_type": "code",
   "execution_count": 33,
   "metadata": {},
   "outputs": [
    {
     "name": "stdout",
     "output_type": "stream",
     "text": [
      "Files in directory: ['Report Monitoring Credit Point  Ciputra Education Digital eXperience (1).xlsx', 'Report Monitoring Credit Point  Ciputra Education Digital eXperience (10).xlsx', 'Report Monitoring Credit Point  Ciputra Education Digital eXperience (11).xlsx', 'Report Monitoring Credit Point  Ciputra Education Digital eXperience (12).xlsx', 'Report Monitoring Credit Point  Ciputra Education Digital eXperience (13).xlsx', 'Report Monitoring Credit Point  Ciputra Education Digital eXperience (14).xlsx', 'Report Monitoring Credit Point  Ciputra Education Digital eXperience (2).xlsx', 'Report Monitoring Credit Point  Ciputra Education Digital eXperience (3).xlsx', 'Report Monitoring Credit Point  Ciputra Education Digital eXperience (4).xlsx', 'Report Monitoring Credit Point  Ciputra Education Digital eXperience (5).xlsx', 'Report Monitoring Credit Point  Ciputra Education Digital eXperience (6).xlsx', 'Report Monitoring Credit Point  Ciputra Education Digital eXperience (7).xlsx', 'Report Monitoring Credit Point  Ciputra Education Digital eXperience (8).xlsx', 'Report Monitoring Credit Point  Ciputra Education Digital eXperience (9).xlsx', 'Report Monitoring Credit Point  Ciputra Education Digital eXperience.xlsx']\n"
     ]
    }
   ],
   "source": [
    "print(\"Files in directory:\", os.listdir(path))"
   ]
  },
  {
   "cell_type": "code",
   "execution_count": 34,
   "metadata": {},
   "outputs": [
    {
     "name": "stdout",
     "output_type": "stream",
     "text": [
      "Files found: ['C:\\\\Users\\\\hansj\\\\OneDrive\\\\Documents\\\\Student Affairs\\\\Projects\\\\Tarik Data KP\\\\input (clear on finish)\\\\Report Monitoring Credit Point  Ciputra Education Digital eXperience (1).xlsx', 'C:\\\\Users\\\\hansj\\\\OneDrive\\\\Documents\\\\Student Affairs\\\\Projects\\\\Tarik Data KP\\\\input (clear on finish)\\\\Report Monitoring Credit Point  Ciputra Education Digital eXperience (10).xlsx', 'C:\\\\Users\\\\hansj\\\\OneDrive\\\\Documents\\\\Student Affairs\\\\Projects\\\\Tarik Data KP\\\\input (clear on finish)\\\\Report Monitoring Credit Point  Ciputra Education Digital eXperience (11).xlsx', 'C:\\\\Users\\\\hansj\\\\OneDrive\\\\Documents\\\\Student Affairs\\\\Projects\\\\Tarik Data KP\\\\input (clear on finish)\\\\Report Monitoring Credit Point  Ciputra Education Digital eXperience (12).xlsx', 'C:\\\\Users\\\\hansj\\\\OneDrive\\\\Documents\\\\Student Affairs\\\\Projects\\\\Tarik Data KP\\\\input (clear on finish)\\\\Report Monitoring Credit Point  Ciputra Education Digital eXperience (13).xlsx', 'C:\\\\Users\\\\hansj\\\\OneDrive\\\\Documents\\\\Student Affairs\\\\Projects\\\\Tarik Data KP\\\\input (clear on finish)\\\\Report Monitoring Credit Point  Ciputra Education Digital eXperience (14).xlsx', 'C:\\\\Users\\\\hansj\\\\OneDrive\\\\Documents\\\\Student Affairs\\\\Projects\\\\Tarik Data KP\\\\input (clear on finish)\\\\Report Monitoring Credit Point  Ciputra Education Digital eXperience (2).xlsx', 'C:\\\\Users\\\\hansj\\\\OneDrive\\\\Documents\\\\Student Affairs\\\\Projects\\\\Tarik Data KP\\\\input (clear on finish)\\\\Report Monitoring Credit Point  Ciputra Education Digital eXperience (3).xlsx', 'C:\\\\Users\\\\hansj\\\\OneDrive\\\\Documents\\\\Student Affairs\\\\Projects\\\\Tarik Data KP\\\\input (clear on finish)\\\\Report Monitoring Credit Point  Ciputra Education Digital eXperience (4).xlsx', 'C:\\\\Users\\\\hansj\\\\OneDrive\\\\Documents\\\\Student Affairs\\\\Projects\\\\Tarik Data KP\\\\input (clear on finish)\\\\Report Monitoring Credit Point  Ciputra Education Digital eXperience (5).xlsx', 'C:\\\\Users\\\\hansj\\\\OneDrive\\\\Documents\\\\Student Affairs\\\\Projects\\\\Tarik Data KP\\\\input (clear on finish)\\\\Report Monitoring Credit Point  Ciputra Education Digital eXperience (6).xlsx', 'C:\\\\Users\\\\hansj\\\\OneDrive\\\\Documents\\\\Student Affairs\\\\Projects\\\\Tarik Data KP\\\\input (clear on finish)\\\\Report Monitoring Credit Point  Ciputra Education Digital eXperience (7).xlsx', 'C:\\\\Users\\\\hansj\\\\OneDrive\\\\Documents\\\\Student Affairs\\\\Projects\\\\Tarik Data KP\\\\input (clear on finish)\\\\Report Monitoring Credit Point  Ciputra Education Digital eXperience (8).xlsx', 'C:\\\\Users\\\\hansj\\\\OneDrive\\\\Documents\\\\Student Affairs\\\\Projects\\\\Tarik Data KP\\\\input (clear on finish)\\\\Report Monitoring Credit Point  Ciputra Education Digital eXperience (9).xlsx', 'C:\\\\Users\\\\hansj\\\\OneDrive\\\\Documents\\\\Student Affairs\\\\Projects\\\\Tarik Data KP\\\\input (clear on finish)\\\\Report Monitoring Credit Point  Ciputra Education Digital eXperience.xlsx']\n"
     ]
    }
   ],
   "source": [
    "print(\"Files found:\", all_files)"
   ]
  },
  {
   "cell_type": "code",
   "execution_count": 35,
   "metadata": {},
   "outputs": [],
   "source": [
    "data_frames = []"
   ]
  },
  {
   "cell_type": "code",
   "execution_count": 36,
   "metadata": {},
   "outputs": [],
   "source": [
    "for file in all_files:\n",
    "    df = pd.read_excel(file, skiprows=1, header=0)\n",
    "    data_frames.append(df)"
   ]
  },
  {
   "cell_type": "code",
   "execution_count": 37,
   "metadata": {},
   "outputs": [],
   "source": [
    "combined_df = pd.concat(data_frames, ignore_index=True)"
   ]
  },
  {
   "cell_type": "code",
   "execution_count": 38,
   "metadata": {},
   "outputs": [],
   "source": [
    "combined_df.to_excel(\"combined_data.xlsx\", index=False)"
   ]
  }
 ],
 "metadata": {
  "kernelspec": {
   "display_name": "Python 3",
   "language": "python",
   "name": "python3"
  },
  "language_info": {
   "codemirror_mode": {
    "name": "ipython",
    "version": 3
   },
   "file_extension": ".py",
   "mimetype": "text/x-python",
   "name": "python",
   "nbconvert_exporter": "python",
   "pygments_lexer": "ipython3",
   "version": "3.11.0"
  }
 },
 "nbformat": 4,
 "nbformat_minor": 2
}
