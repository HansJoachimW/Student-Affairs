{
 "cells": [
  {
   "cell_type": "code",
   "execution_count": 172,
   "metadata": {},
   "outputs": [],
   "source": [
    "import pandas as pd\n",
    "import glob\n",
    "import os\n",
    "import re"
   ]
  },
  {
   "cell_type": "code",
   "execution_count": 173,
   "metadata": {},
   "outputs": [],
   "source": [
    "path = r'C:\\Users\\hansj\\OneDrive\\Documents\\Student Affairs\\Projects\\Tarik Data KP\\input (clear on finish)'\n",
    "all_files = glob.glob(path + r\"\\Report Monitoring Credit Point  Ciputra Education Digital eXperience*.xlsx\")"
   ]
  },
  {
   "cell_type": "code",
   "execution_count": 174,
   "metadata": {},
   "outputs": [
    {
     "name": "stdout",
     "output_type": "stream",
     "text": [
      "Files in directory: ['Report Monitoring Credit Point  Ciputra Education Digital eXperience (1).xlsx', 'Report Monitoring Credit Point  Ciputra Education Digital eXperience (10).xlsx', 'Report Monitoring Credit Point  Ciputra Education Digital eXperience (11).xlsx', 'Report Monitoring Credit Point  Ciputra Education Digital eXperience (12).xlsx', 'Report Monitoring Credit Point  Ciputra Education Digital eXperience (13).xlsx', 'Report Monitoring Credit Point  Ciputra Education Digital eXperience (14).xlsx', 'Report Monitoring Credit Point  Ciputra Education Digital eXperience (2).xlsx', 'Report Monitoring Credit Point  Ciputra Education Digital eXperience (3).xlsx', 'Report Monitoring Credit Point  Ciputra Education Digital eXperience (4).xlsx', 'Report Monitoring Credit Point  Ciputra Education Digital eXperience (5).xlsx', 'Report Monitoring Credit Point  Ciputra Education Digital eXperience (6).xlsx', 'Report Monitoring Credit Point  Ciputra Education Digital eXperience (7).xlsx', 'Report Monitoring Credit Point  Ciputra Education Digital eXperience (8).xlsx', 'Report Monitoring Credit Point  Ciputra Education Digital eXperience (9).xlsx', 'Report Monitoring Credit Point  Ciputra Education Digital eXperience.xlsx']\n"
     ]
    }
   ],
   "source": [
    "print(\"Files in directory:\", os.listdir(path))"
   ]
  },
  {
   "cell_type": "code",
   "execution_count": 175,
   "metadata": {},
   "outputs": [
    {
     "name": "stdout",
     "output_type": "stream",
     "text": [
      "Files found: ['C:\\\\Users\\\\hansj\\\\OneDrive\\\\Documents\\\\Student Affairs\\\\Projects\\\\Tarik Data KP\\\\input (clear on finish)\\\\Report Monitoring Credit Point  Ciputra Education Digital eXperience (1).xlsx', 'C:\\\\Users\\\\hansj\\\\OneDrive\\\\Documents\\\\Student Affairs\\\\Projects\\\\Tarik Data KP\\\\input (clear on finish)\\\\Report Monitoring Credit Point  Ciputra Education Digital eXperience (10).xlsx', 'C:\\\\Users\\\\hansj\\\\OneDrive\\\\Documents\\\\Student Affairs\\\\Projects\\\\Tarik Data KP\\\\input (clear on finish)\\\\Report Monitoring Credit Point  Ciputra Education Digital eXperience (11).xlsx', 'C:\\\\Users\\\\hansj\\\\OneDrive\\\\Documents\\\\Student Affairs\\\\Projects\\\\Tarik Data KP\\\\input (clear on finish)\\\\Report Monitoring Credit Point  Ciputra Education Digital eXperience (12).xlsx', 'C:\\\\Users\\\\hansj\\\\OneDrive\\\\Documents\\\\Student Affairs\\\\Projects\\\\Tarik Data KP\\\\input (clear on finish)\\\\Report Monitoring Credit Point  Ciputra Education Digital eXperience (13).xlsx', 'C:\\\\Users\\\\hansj\\\\OneDrive\\\\Documents\\\\Student Affairs\\\\Projects\\\\Tarik Data KP\\\\input (clear on finish)\\\\Report Monitoring Credit Point  Ciputra Education Digital eXperience (14).xlsx', 'C:\\\\Users\\\\hansj\\\\OneDrive\\\\Documents\\\\Student Affairs\\\\Projects\\\\Tarik Data KP\\\\input (clear on finish)\\\\Report Monitoring Credit Point  Ciputra Education Digital eXperience (2).xlsx', 'C:\\\\Users\\\\hansj\\\\OneDrive\\\\Documents\\\\Student Affairs\\\\Projects\\\\Tarik Data KP\\\\input (clear on finish)\\\\Report Monitoring Credit Point  Ciputra Education Digital eXperience (3).xlsx', 'C:\\\\Users\\\\hansj\\\\OneDrive\\\\Documents\\\\Student Affairs\\\\Projects\\\\Tarik Data KP\\\\input (clear on finish)\\\\Report Monitoring Credit Point  Ciputra Education Digital eXperience (4).xlsx', 'C:\\\\Users\\\\hansj\\\\OneDrive\\\\Documents\\\\Student Affairs\\\\Projects\\\\Tarik Data KP\\\\input (clear on finish)\\\\Report Monitoring Credit Point  Ciputra Education Digital eXperience (5).xlsx', 'C:\\\\Users\\\\hansj\\\\OneDrive\\\\Documents\\\\Student Affairs\\\\Projects\\\\Tarik Data KP\\\\input (clear on finish)\\\\Report Monitoring Credit Point  Ciputra Education Digital eXperience (6).xlsx', 'C:\\\\Users\\\\hansj\\\\OneDrive\\\\Documents\\\\Student Affairs\\\\Projects\\\\Tarik Data KP\\\\input (clear on finish)\\\\Report Monitoring Credit Point  Ciputra Education Digital eXperience (7).xlsx', 'C:\\\\Users\\\\hansj\\\\OneDrive\\\\Documents\\\\Student Affairs\\\\Projects\\\\Tarik Data KP\\\\input (clear on finish)\\\\Report Monitoring Credit Point  Ciputra Education Digital eXperience (8).xlsx', 'C:\\\\Users\\\\hansj\\\\OneDrive\\\\Documents\\\\Student Affairs\\\\Projects\\\\Tarik Data KP\\\\input (clear on finish)\\\\Report Monitoring Credit Point  Ciputra Education Digital eXperience (9).xlsx', 'C:\\\\Users\\\\hansj\\\\OneDrive\\\\Documents\\\\Student Affairs\\\\Projects\\\\Tarik Data KP\\\\input (clear on finish)\\\\Report Monitoring Credit Point  Ciputra Education Digital eXperience.xlsx']\n"
     ]
    }
   ],
   "source": [
    "print(\"Files found:\", all_files)"
   ]
  },
  {
   "cell_type": "code",
   "execution_count": 176,
   "metadata": {},
   "outputs": [],
   "source": [
    "data_by_year = {}"
   ]
  },
  {
   "cell_type": "code",
   "execution_count": 177,
   "metadata": {},
   "outputs": [],
   "source": [
    "column_mappings = {\n",
    "    '2018': {\n",
    "        'Oweek': 'OWeek',\n",
    "        'Upacara': 'Upacara',\n",
    "        'Leadership 101': 'L101',\n",
    "        'Organisasi Kemahasiswaan': 'OK',\n",
    "        'Mentoring': 'Mentoring',\n",
    "        'Workshop/Seminar': 'Workshop/Seminar',\n",
    "        'Lainnya': 'Lainnya',\n",
    "        'Total Required': 'Total'\n",
    "    },\n",
    "    '2019': {\n",
    "        'Oweek': 'OWeek',\n",
    "        'Upacara': 'Upacara',\n",
    "        'Pra Latihan Dasar Kepemimpinan': 'Pra-LDK',\n",
    "        'Organisasi Kemahasiswaan': 'OK',\n",
    "        'Mentoring': 'Mentoring',\n",
    "        'Talkshow Wajib': 'Talkshow Wajib',\n",
    "        'Kompetisi': 'Kompetisi',\n",
    "        'Kepanitiaan': 'Kepanitiaan',\n",
    "        'Pengabdian Masyarakat': 'Pengmas',\n",
    "        'Kegiatan Career Center': 'Career Center',\n",
    "        'Kegiatan International Office': 'International Office',\n",
    "        'Lainnya': 'Lainnya',\n",
    "        'Total Required': 'Total'\n",
    "    },\n",
    "    '2020': {\n",
    "        'Oweek': 'OWeek',\n",
    "        'Upacara': 'Upacara',\n",
    "        'Pra Latihan Dasar Kepemimpinan': 'Pra-LDK',\n",
    "        'Organisasi Kemahasiswaan': 'OK',\n",
    "        'Mentoring': 'Mentoring',\n",
    "        'Talkshow Wajib': 'Talkshow Wajib',\n",
    "        'Kompetisi': 'Kompetisi',\n",
    "        'Kepanitiaan': 'Kepanitiaan',\n",
    "        'Pengabdian Masyarakat': 'Pengmas',\n",
    "        'Kegiatan Career Center': 'Career Center',\n",
    "        'Kegiatan International Office': 'International Office',\n",
    "        'Lainnya': 'Lainnya',\n",
    "        'Total Required': 'Total'\n",
    "    },\n",
    "    '2021': {\n",
    "        'Oweek': 'OWeek',\n",
    "        'Upacara': 'Upacara',\n",
    "        'Pra Latihan Dasar Kepemimpinan': 'Pra-LDK',\n",
    "        'Organisasi Kemahasiswaan': 'OK',\n",
    "        'Mentoring': 'Mentoring',\n",
    "        'Talkshow Wajib': 'Talkshow Wajib',\n",
    "        'Kompetisi': 'Kompetisi',\n",
    "        'Kepanitiaan': 'Kepanitiaan',\n",
    "        'Pengabdian Masyarakat': 'Pengmas',\n",
    "        'Kegiatan Career Center': 'Career Center',\n",
    "        'Kegiatan International Office': 'International Office',\n",
    "        'Lainnya': 'Lainnya',\n",
    "        'Total Required': 'Total'\n",
    "    },\n",
    "    '2022': {\n",
    "        'Oweek': 'OWeek',\n",
    "        'Upacara': 'Upacara',\n",
    "        'Pra Latihan Dasar Kepemimpinan': 'Pra-LDK',\n",
    "        'Organisasi Kemahasiswaan': 'OK',\n",
    "        'Mentoring': 'Mentoring',\n",
    "        'Talkshow Wajib': 'Talkshow Wajib',\n",
    "        'Kompetisi': 'Kompetisi',\n",
    "        'Kepanitiaan': 'Kepanitiaan',\n",
    "        'Pengabdian Masyarakat': 'Pengmas',\n",
    "        'Kegiatan Career Center': 'Career Center',\n",
    "        'Kegiatan International Office': 'International Office',\n",
    "        'Lainnya': 'Lainnya',\n",
    "        'Total Required': 'Total'\n",
    "    },\n",
    "    '2023': {\n",
    "        'Oweek': 'OWeek',\n",
    "        'Upacara': 'Upacara',\n",
    "        'Pra Latihan Dasar Kepemimpinan': 'Pra-LDK',\n",
    "        'Organisasi Kemahasiswaan': 'OK',\n",
    "        'Mentoring': 'Mentoring',\n",
    "        'Talkshow Wajib': 'Talkshow Wajib',\n",
    "        'Kompetisi': 'Kompetisi',\n",
    "        'Kepanitiaan': 'Kepanitiaan',\n",
    "        'Pengabdian Masyarakat': 'Pengmas',\n",
    "        'Kegiatan Career Center': 'Career Center',\n",
    "        'Kegiatan International Office': 'International Office',\n",
    "        'Lainnya': 'Lainnya',\n",
    "        'Total Required': 'Total'\n",
    "    }\n",
    "}"
   ]
  },
  {
   "cell_type": "code",
   "execution_count": 178,
   "metadata": {},
   "outputs": [],
   "source": [
    "thresholds = {\n",
    "    '2018': {\n",
    "        'OWeek': 6, \n",
    "        'Upacara': 4, \n",
    "        'L101': 4, \n",
    "        'OK': 30, \n",
    "        'Mentoring': 12, \n",
    "        'Workshop/Seminar': 16, \n",
    "        'Lainnya': 28, \n",
    "        'Total': 100\n",
    "    },\n",
    "    '2019': {\n",
    "        'OWeek': 6, \n",
    "        'Upacara': 4, \n",
    "        'Pra-LDK': 4, \n",
    "        'OK': 25, \n",
    "        'Mentoring': 12, \n",
    "        'Talkshow Wajib': 3, \n",
    "        'Kompetisi': 9, \n",
    "        'Kepanitiaan': 8, \n",
    "        'Pengmas': 9, \n",
    "        'Lainnya': 20, \n",
    "        'Total': 100\n",
    "    },\n",
    "    '2020': {\n",
    "        'OWeek': 6, \n",
    "        'Upacara': 4, \n",
    "        'Pra-LDK': 4, \n",
    "        'OK': 25, \n",
    "        'Mentoring': 12, \n",
    "        'Talkshow Wajib': 3, \n",
    "        'Kompetisi': 9, \n",
    "        'Kepanitiaan': 8, \n",
    "        'Pengmas': 9, \n",
    "        'Lainnya': 20, \n",
    "        'Total': 100\n",
    "    },\n",
    "    '2021': {\n",
    "        'OWeek': 6, \n",
    "        'Upacara': 2, \n",
    "        'Pra-LDK': 4, \n",
    "        'OK': 20, \n",
    "        'Mentoring': 12, \n",
    "        'Talkshow Wajib': 3, \n",
    "        'Kompetisi': 9, \n",
    "        'Kepanitiaan': 8, \n",
    "        'Pengmas': 9, \n",
    "        'Career Center': 9, \n",
    "        'International Office': 6, \n",
    "        'Lainnya': 12, \n",
    "        'Total': 100\n",
    "    },\n",
    "    '2022': {\n",
    "        'OWeek': 6, \n",
    "        'Upacara': 2, \n",
    "        'Pra-LDK': 4, \n",
    "        'OK': 20, \n",
    "        'Mentoring': 12, \n",
    "        'Talkshow Wajib': 3, \n",
    "        'Kompetisi': 9, \n",
    "        'Kepanitiaan': 8, \n",
    "        'Pengmas': 9, \n",
    "        'Career Center': 9, \n",
    "        'International Office': 6, \n",
    "        'Lainnya': 12, \n",
    "        'Total': 100\n",
    "    },\n",
    "    '2023': {\n",
    "        'OWeek': 6, \n",
    "        'Upacara': 2, \n",
    "        'Pra-LDK': 4, \n",
    "        'OK': 20, \n",
    "        'Mentoring': 12, \n",
    "        'Talkshow Wajib': 4, \n",
    "        'Kompetisi': 9, \n",
    "        'Kepanitiaan': 6, \n",
    "        'Pengmas': 4, \n",
    "        'Career Center': 9, \n",
    "        'International Office': 6, \n",
    "        'Lainnya': 18, \n",
    "        'Total': 100\n",
    "    }\n",
    "}"
   ]
  },
  {
   "cell_type": "code",
   "execution_count": 179,
   "metadata": {},
   "outputs": [],
   "source": [
    "def clean_column_name(col_name):\n",
    "    return re.sub(r\"Min CP: ?|\\d+\", \"\", col_name).strip()"
   ]
  },
  {
   "cell_type": "code",
   "execution_count": 180,
   "metadata": {},
   "outputs": [],
   "source": [
    "for file in all_files:\n",
    "    df = pd.read_excel(file, skiprows=1, header=0)\n",
    "    student_year = str(df['Student Year'].iloc[0])\n",
    "    \n",
    "    cleaned_columns = {col: clean_column_name(col) for col in df.columns}\n",
    "    df.rename(columns=cleaned_columns, inplace=True)\n",
    "    \n",
    "    # print(cleaned_columns)\n",
    "\n",
    "    if 'Student Year' in df.columns and not df['Student Year'].empty:        \n",
    "        student_year = str(df['Student Year'].iloc[0])\n",
    "\n",
    "        # Only proceed if the year is in thresholds\n",
    "    if student_year in thresholds:\n",
    "        if student_year not in data_by_year:\n",
    "           data_by_year[student_year] = []\n",
    "        data_by_year[student_year].append(df)"
   ]
  },
  {
   "cell_type": "code",
   "execution_count": 181,
   "metadata": {},
   "outputs": [],
   "source": [
    "output_file = \"combined_data_by_year.xlsx\"\n",
    "with pd.ExcelWriter(output_file) as writer:\n",
    "    for year, data_list in data_by_year.items():\n",
    "        combined_data = pd.concat(data_list, ignore_index=True)\n",
    "        \n",
    "        combined_data.to_excel(writer, sheet_name=f\"Year_{year}\", index=False)"
   ]
  },
  {
   "cell_type": "code",
   "execution_count": 182,
   "metadata": {},
   "outputs": [],
   "source": [
    "summary_data = []\n",
    "\n",
    "for year, data_list in data_by_year.items():\n",
    "    combined_data = pd.concat(data_list, ignore_index=True)\n",
    "    \n",
    "    year_thresholds = thresholds[year]\n",
    "    \n",
    "    for major, group in combined_data.groupby('Major'):\n",
    "        active_students = group[group['Status'] == 'Aktif'].shape[0]\n",
    "        inactive_students = group[group['Status'] != 'Aktif'].shape[0]\n",
    "        \n",
    "        for activity in year_thresholds.keys():\n",
    "            if activity in group.columns:\n",
    "                group[activity] = pd.to_numeric(group[activity], errors='coerce').fillna(0)\n",
    "        \n",
    "        # Dictionary to hold threshold counts per activity\n",
    "        below_threshold_counts = {activity: 0 for activity in year_thresholds.keys()}\n",
    "        \n",
    "        # Apply thresholds and count students below each one\n",
    "        for activity, min_value in year_thresholds.items():\n",
    "            if activity in group.columns:\n",
    "                below_threshold_counts[activity] = (group[activity] < min_value).sum()\n",
    "        \n",
    "        # Prepare a row for each major with all required counts\n",
    "        summary_row = {\n",
    "            'Year': year,\n",
    "            'Major': major,\n",
    "            '# of Active Students': active_students,\n",
    "            '# of Inactive Students': inactive_students,\n",
    "        }\n",
    "        # Add below-threshold counts to the summary row\n",
    "        summary_row.update(below_threshold_counts)\n",
    "        \n",
    "        # Append the summary row to the summary data list\n",
    "        summary_data.append(summary_row)"
   ]
  },
  {
   "cell_type": "code",
   "execution_count": 183,
   "metadata": {},
   "outputs": [
    {
     "name": "stdout",
     "output_type": "stream",
     "text": [
      "[{'Year': '2022', 'Major': 'ACC', '# of Active Students': 33, '# of Inactive Students': 1, 'OWeek': 0, 'Upacara': 1, 'Pra-LDK': 0, 'OK': 0, 'Mentoring': 1, 'Talkshow Wajib': 0, 'Kompetisi': 9, 'Kepanitiaan': 3, 'Pengmas': 0, 'Career Center': 0, 'International Office': 0, 'Lainnya': 0, 'Total': 0}, {'Year': '2022', 'Major': 'ARS', '# of Active Students': 50, '# of Inactive Students': 0, 'OWeek': 0, 'Upacara': 1, 'Pra-LDK': 0, 'OK': 0, 'Mentoring': 1, 'Talkshow Wajib': 0, 'Kompetisi': 22, 'Kepanitiaan': 12, 'Pengmas': 0, 'Career Center': 0, 'International Office': 0, 'Lainnya': 0, 'Total': 0}, {'Year': '2022', 'Major': 'BMI', '# of Active Students': 80, '# of Inactive Students': 1, 'OWeek': 0, 'Upacara': 6, 'Pra-LDK': 0, 'OK': 0, 'Mentoring': 7, 'Talkshow Wajib': 0, 'Kompetisi': 42, 'Kepanitiaan': 16, 'Pengmas': 0, 'Career Center': 0, 'International Office': 0, 'Lainnya': 3, 'Total': 0}, {'Year': '2022', 'Major': 'CBZ', '# of Active Students': 89, '# of Inactive Students': 0, 'OWeek': 0, 'Upacara': 5, 'Pra-LDK': 0, 'OK': 0, 'Mentoring': 3, 'Talkshow Wajib': 0, 'Kompetisi': 45, 'Kepanitiaan': 29, 'Pengmas': 0, 'Career Center': 0, 'International Office': 0, 'Lainnya': 4, 'Total': 0}, {'Year': '2022', 'Major': 'COM', '# of Active Students': 59, '# of Inactive Students': 1, 'OWeek': 0, 'Upacara': 1, 'Pra-LDK': 0, 'OK': 0, 'Mentoring': 17, 'Talkshow Wajib': 0, 'Kompetisi': 36, 'Kepanitiaan': 8, 'Pengmas': 0, 'Career Center': 0, 'International Office': 0, 'Lainnya': 4, 'Total': 0}, {'Year': '2022', 'Major': 'DME', '# of Active Students': 18, '# of Inactive Students': 1, 'OWeek': 0, 'Upacara': 19, 'Pra-LDK': 0, 'OK': 0, 'Mentoring': 19, 'Talkshow Wajib': 0, 'Kompetisi': 19, 'Kepanitiaan': 19, 'Pengmas': 0, 'Career Center': 0, 'International Office': 0, 'Lainnya': 17, 'Total': 0}, {'Year': '2022', 'Major': 'FPD', '# of Active Students': 51, '# of Inactive Students': 0, 'OWeek': 0, 'Upacara': 0, 'Pra-LDK': 0, 'OK': 0, 'Mentoring': 1, 'Talkshow Wajib': 0, 'Kompetisi': 32, 'Kepanitiaan': 12, 'Pengmas': 0, 'Career Center': 0, 'International Office': 0, 'Lainnya': 2, 'Total': 0}, {'Year': '2022', 'Major': 'FTP', '# of Active Students': 17, '# of Inactive Students': 1, 'OWeek': 0, 'Upacara': 1, 'Pra-LDK': 0, 'OK': 0, 'Mentoring': 4, 'Talkshow Wajib': 0, 'Kompetisi': 3, 'Kepanitiaan': 1, 'Pengmas': 0, 'Career Center': 0, 'International Office': 0, 'Lainnya': 0, 'Total': 0}, {'Year': '2022', 'Major': 'HTB', '# of Active Students': 48, '# of Inactive Students': 2, 'OWeek': 0, 'Upacara': 4, 'Pra-LDK': 0, 'OK': 0, 'Mentoring': 1, 'Talkshow Wajib': 0, 'Kompetisi': 26, 'Kepanitiaan': 5, 'Pengmas': 0, 'Career Center': 0, 'International Office': 0, 'Lainnya': 6, 'Total': 0}, {'Year': '2022', 'Major': 'IBM', '# of Active Students': 388, '# of Inactive Students': 14, 'OWeek': 0, 'Upacara': 30, 'Pra-LDK': 0, 'OK': 0, 'Mentoring': 36, 'Talkshow Wajib': 0, 'Kompetisi': 254, 'Kepanitiaan': 116, 'Pengmas': 0, 'Career Center': 0, 'International Office': 0, 'Lainnya': 20, 'Total': 0}, {'Year': '2022', 'Major': 'IMT', '# of Active Students': 55, '# of Inactive Students': 1, 'OWeek': 0, 'Upacara': 4, 'Pra-LDK': 0, 'OK': 0, 'Mentoring': 0, 'Talkshow Wajib': 0, 'Kompetisi': 13, 'Kepanitiaan': 11, 'Pengmas': 0, 'Career Center': 0, 'International Office': 0, 'Lainnya': 8, 'Total': 0}, {'Year': '2022', 'Major': 'ISB', '# of Active Students': 55, '# of Inactive Students': 2, 'OWeek': 0, 'Upacara': 2, 'Pra-LDK': 0, 'OK': 0, 'Mentoring': 0, 'Talkshow Wajib': 0, 'Kompetisi': 17, 'Kepanitiaan': 4, 'Pengmas': 0, 'Career Center': 0, 'International Office': 0, 'Lainnya': 3, 'Total': 0}, {'Year': '2022', 'Major': 'MED', '# of Active Students': 75, '# of Inactive Students': 0, 'OWeek': 0, 'Upacara': 1, 'Pra-LDK': 0, 'OK': 0, 'Mentoring': 2, 'Talkshow Wajib': 0, 'Kompetisi': 27, 'Kepanitiaan': 24, 'Pengmas': 0, 'Career Center': 0, 'International Office': 0, 'Lainnya': 6, 'Total': 0}, {'Year': '2022', 'Major': 'PSY', '# of Active Students': 56, '# of Inactive Students': 1, 'OWeek': 0, 'Upacara': 2, 'Pra-LDK': 0, 'OK': 0, 'Mentoring': 1, 'Talkshow Wajib': 0, 'Kompetisi': 28, 'Kepanitiaan': 6, 'Pengmas': 0, 'Career Center': 0, 'International Office': 0, 'Lainnya': 2, 'Total': 0}, {'Year': '2022', 'Major': 'VCD', '# of Active Students': 105, '# of Inactive Students': 1, 'OWeek': 0, 'Upacara': 1, 'Pra-LDK': 0, 'OK': 0, 'Mentoring': 1, 'Talkshow Wajib': 0, 'Kompetisi': 46, 'Kepanitiaan': 36, 'Pengmas': 0, 'Career Center': 0, 'International Office': 0, 'Lainnya': 3, 'Total': 0}]\n"
     ]
    }
   ],
   "source": [
    "print(summary_data)"
   ]
  },
  {
   "cell_type": "code",
   "execution_count": 184,
   "metadata": {},
   "outputs": [
    {
     "name": "stdout",
     "output_type": "stream",
     "text": [
      "Summary saved to 'summary_by_major_and_year.xlsx'\n"
     ]
    }
   ],
   "source": [
    "# Convert summary data into a DataFrame for better readability and export\n",
    "summary_df = pd.DataFrame(summary_data)\n",
    "\n",
    "# Save summary DataFrame to Excel\n",
    "summary_output_file = \"summary_by_major_and_year.xlsx\"\n",
    "summary_df.to_excel(summary_output_file, index=False)\n",
    "\n",
    "print(f\"Summary saved to '{summary_output_file}'\")"
   ]
  }
 ],
 "metadata": {
  "kernelspec": {
   "display_name": "Python 3",
   "language": "python",
   "name": "python3"
  },
  "language_info": {
   "codemirror_mode": {
    "name": "ipython",
    "version": 3
   },
   "file_extension": ".py",
   "mimetype": "text/x-python",
   "name": "python",
   "nbconvert_exporter": "python",
   "pygments_lexer": "ipython3",
   "version": "3.11.0"
  }
 },
 "nbformat": 4,
 "nbformat_minor": 2
}
