{
 "cells": [
  {
   "cell_type": "code",
   "execution_count": 23,
   "metadata": {},
   "outputs": [],
   "source": [
    "import requests\n",
    "from bs4 import BeautifulSoup\n",
    "import csv\n",
    "import instaloader\n",
    "from instaloader import Profile\n",
    "import time"
   ]
  },
  {
   "cell_type": "code",
   "execution_count": 24,
   "metadata": {},
   "outputs": [],
   "source": [
    "L = instaloader.Instaloader()"
   ]
  },
  {
   "cell_type": "code",
   "execution_count": 25,
   "metadata": {},
   "outputs": [],
   "source": [
    "usernames = ['informasilomba', 'infolomba.olimpiade', 'infolomba']"
   ]
  },
  {
   "cell_type": "code",
   "execution_count": 26,
   "metadata": {},
   "outputs": [],
   "source": [
    "national_keywords = ['National', 'Nasional', 'Indonesia', 'Mahasiswa']\n",
    "\n",
    "national_competitions = []"
   ]
  },
  {
   "cell_type": "code",
   "execution_count": 27,
   "metadata": {},
   "outputs": [
    {
     "name": "stdout",
     "output_type": "stream",
     "text": [
      "Scraping data from: informasilomba\n",
      "Processed 100 posts from 2024 for informasilomba...\n",
      "Finished scraping informasilomba. Total posts collected so far: 103\n",
      "Scraping data from: infolomba.olimpiade\n",
      "Processed 100 posts from 2024 for infolomba.olimpiade...\n",
      "Processed 200 posts from 2024 for infolomba.olimpiade...\n",
      "Processed 300 posts from 2024 for infolomba.olimpiade...\n",
      "Processed 400 posts from 2024 for infolomba.olimpiade...\n",
      "Processed 500 posts from 2024 for infolomba.olimpiade...\n",
      "Processed 600 posts from 2024 for infolomba.olimpiade...\n",
      "Processed 700 posts from 2024 for infolomba.olimpiade...\n",
      "Processed 800 posts from 2024 for infolomba.olimpiade...\n",
      "Processed 900 posts from 2024 for infolomba.olimpiade...\n",
      "Processed 1000 posts from 2024 for infolomba.olimpiade...\n"
     ]
    },
    {
     "ename": "KeyboardInterrupt",
     "evalue": "",
     "output_type": "error",
     "traceback": [
      "\u001b[1;31m---------------------------------------------------------------------------\u001b[0m",
      "\u001b[1;31mKeyboardInterrupt\u001b[0m                         Traceback (most recent call last)",
      "Cell \u001b[1;32mIn[27], line 31\u001b[0m\n\u001b[0;32m     28\u001b[0m         \u001b[38;5;28mprint\u001b[39m(\u001b[38;5;124mf\u001b[39m\u001b[38;5;124m'\u001b[39m\u001b[38;5;124mProcessed \u001b[39m\u001b[38;5;132;01m{\u001b[39;00mi\u001b[38;5;132;01m}\u001b[39;00m\u001b[38;5;124m posts from 2024 for \u001b[39m\u001b[38;5;132;01m{\u001b[39;00musername\u001b[38;5;132;01m}\u001b[39;00m\u001b[38;5;124m...\u001b[39m\u001b[38;5;124m'\u001b[39m)\n\u001b[0;32m     30\u001b[0m     \u001b[38;5;66;03m# Optional: Sleep to avoid rate limits (optional)\u001b[39;00m\n\u001b[1;32m---> 31\u001b[0m     time\u001b[38;5;241m.\u001b[39msleep(\u001b[38;5;241m1\u001b[39m)\n\u001b[0;32m     33\u001b[0m \u001b[38;5;66;03m# Stop if we've gone past posts from 2024\u001b[39;00m\n\u001b[0;32m     34\u001b[0m \u001b[38;5;28;01mif\u001b[39;00m post\u001b[38;5;241m.\u001b[39mdate\u001b[38;5;241m.\u001b[39myear \u001b[38;5;241m<\u001b[39m \u001b[38;5;241m2024\u001b[39m:\n",
      "\u001b[1;31mKeyboardInterrupt\u001b[0m: "
     ]
    }
   ],
   "source": [
    "output_file = 'national_competitions_2024.csv'\n",
    "\n",
    "# Open file for writing (append mode to collect data from all accounts)\n",
    "with open(output_file, mode='w', newline='', encoding='utf-8') as file:\n",
    "    writer = csv.writer(file)\n",
    "    national_competitions = set()  # Use a set to avoid duplicates across all accounts\n",
    "\n",
    "    # Loop through each account\n",
    "    for username in usernames:\n",
    "        print(f\"Scraping data from: {username}\")\n",
    "        profile = Profile.from_username(L.context, username)\n",
    "\n",
    "        # Scrape posts from the profile\n",
    "        for i, post in enumerate(profile.get_posts(), start=1):\n",
    "            # Filter posts from the year 2024\n",
    "            if post.date.year == 2024:\n",
    "                caption = post.caption if post.caption else \"\"\n",
    "\n",
    "                # Check if any keyword is in the caption\n",
    "                if any(keyword in caption for keyword in national_keywords):\n",
    "                    clean_caption = caption.strip().title()\n",
    "                    if clean_caption not in national_competitions:\n",
    "                        national_competitions.add(clean_caption)\n",
    "                        writer.writerow([clean_caption])\n",
    "\n",
    "                # Print progress every 100 posts\n",
    "                if i % 100 == 0:\n",
    "                    print(f'Processed {i} posts from 2024 for {username}...')\n",
    "\n",
    "                # Optional: Sleep to avoid rate limits (optional)\n",
    "                time.sleep(1)\n",
    "\n",
    "            # Stop if we've gone past posts from 2024\n",
    "            if post.date.year < 2024:\n",
    "                break  # Exit the loop if we reach older posts\n",
    "\n",
    "        print(f\"Finished scraping {username}. Total posts collected so far: {len(national_competitions)}\")\n",
    "\n",
    "print(f\"Scraping completed. {len(national_competitions)} national competition posts from 2024 saved.\")"
   ]
  }
 ],
 "metadata": {
  "kernelspec": {
   "display_name": "Python 3",
   "language": "python",
   "name": "python3"
  },
  "language_info": {
   "codemirror_mode": {
    "name": "ipython",
    "version": 3
   },
   "file_extension": ".py",
   "mimetype": "text/x-python",
   "name": "python",
   "nbconvert_exporter": "python",
   "pygments_lexer": "ipython3",
   "version": "3.11.0"
  }
 },
 "nbformat": 4,
 "nbformat_minor": 2
}
