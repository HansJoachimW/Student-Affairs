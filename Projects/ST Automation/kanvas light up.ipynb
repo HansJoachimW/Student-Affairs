{
 "cells": [
  {
   "cell_type": "code",
   "execution_count": 1,
   "metadata": {},
   "outputs": [],
   "source": [
    "from docx import Document\n",
    "from docx.shared import Pt\n",
    "import pandas as pd\n",
    "from datetime import datetime\n",
    "import os\n",
    "import re\n",
    "import locale"
   ]
  },
  {
   "cell_type": "code",
   "execution_count": 2,
   "metadata": {},
   "outputs": [],
   "source": [
    "excel_path = \"kanvas light up.xlsx\"\n",
    "data = pd.read_excel(excel_path, sheet_name = \"Worksheet\", dtype={\"NIS\": str})"
   ]
  },
  {
   "cell_type": "code",
   "execution_count": 3,
   "metadata": {},
   "outputs": [],
   "source": [
    "template_path = \"template.docx\""
   ]
  },
  {
   "cell_type": "code",
   "execution_count": 4,
   "metadata": {},
   "outputs": [],
   "source": [
    "indv_output_folder = \"output_letters/kanvas light up\"\n",
    "if not os.path.exists(indv_output_folder):\n",
    "    os.makedirs(indv_output_folder)"
   ]
  },
  {
   "cell_type": "code",
   "execution_count": 5,
   "metadata": {},
   "outputs": [],
   "source": [
    "def format_dates(row):\n",
    "    locale.setlocale(locale.LC_TIME, \"id_ID.UTF-8\")\n",
    "    \n",
    "    start_date = pd.to_datetime(row['Start Date'])\n",
    "    end_date = pd.to_datetime(row['End Date'])\n",
    "    \n",
    "    # Format day and date (e.g., \"Selasa - Kamis/26 - 28 April 2024\")\n",
    "    start_day = start_date.strftime(\"%A\")  # Day of the week\n",
    "    start_formatted = start_date.strftime(\"%d %B %Y\")  # Date in \"26 April 2024\" format\n",
    "    end_day = end_date.strftime(\"%A\")\n",
    "    end_formatted = end_date.strftime(\"%d %B %Y\")\n",
    "    \n",
    "    return f\"{start_day} - {end_day}/{start_formatted} - {end_formatted}\""
   ]
  },
  {
   "cell_type": "code",
   "execution_count": 6,
   "metadata": {},
   "outputs": [],
   "source": [
    "def format_signatures(row):\n",
    "    locale.setlocale(locale.LC_TIME, \"id_ID.UTF-8\")\n",
    "    start_date = pd.to_datetime(row['Start Date'])\n",
    "    \n",
    "    # Format day and date (e.g., \"Selasa - Kamis/26 - 28 April 2024\")\n",
    "    start_formatted = start_date.strftime(\"%d %B %Y\")  # Date in \"26 April 2024\" format\n",
    "    \n",
    "    return f\"Surabaya, {start_formatted}\""
   ]
  },
  {
   "cell_type": "code",
   "execution_count": 7,
   "metadata": {},
   "outputs": [],
   "source": [
    "def replace_surabaya_paragraph(doc, row):\n",
    "    \"\"\"Replace 'Surabaya, <date>' in paragraphs and output changes.\"\"\"\n",
    "    signature_date = format_signatures(row)  # Format the new date\n",
    "    pattern = r\"Surabaya,\\s+\\d{1,2}\\s+\\w+\\s+\\d{4}\"  # Regex pattern for 'Surabaya, <date>'\n",
    "    \n",
    "    for paragraph in doc.paragraphs:\n",
    "        if re.search(pattern, paragraph.text):\n",
    "            old_text = paragraph.text  # Save the original text for logging\n",
    "            paragraph.text = re.sub(pattern, signature_date, paragraph.text)  # Replace text\n",
    "            print(f\"Changed: '{old_text}' to '{paragraph.text}'\")  # Output the change"
   ]
  },
  {
   "cell_type": "code",
   "execution_count": 8,
   "metadata": {},
   "outputs": [],
   "source": [
    "def sanitize_filename(filename):\n",
    "    return \"\".join(c for c in filename if c.isalnum() or c in \" _-()\").strip()"
   ]
  },
  {
   "cell_type": "code",
   "execution_count": 9,
   "metadata": {},
   "outputs": [],
   "source": [
    "doc = Document(template_path)"
   ]
  },
  {
   "cell_type": "code",
   "execution_count": 10,
   "metadata": {},
   "outputs": [
    {
     "name": "stdout",
     "output_type": "stream",
     "text": [
      "\n",
      "Tables:\n",
      "Table 1:\n",
      "  Row 1: [\"''\", \"''\"]\n",
      "Table 2:\n",
      "  Row 1: [\"'No'\", \"'Nama'\", \"'NIM/NIK'\", \"'Departemen/Prodi'\"]\n",
      "  Row 2: [\"'1'\", \"'Rean Mitasari'\", \"'0731108905'\", \"'Dosen Pendamping'\"]\n",
      "  Row 3: [\"'2'\", \"'Jocelyn Vanessa Meidy Winarto'\", \"'0406012110026'\", \"'HTB'\"]\n",
      "Table 3:\n",
      "  Row 1: [\"'Tugas'\", \"':'\", \"'Mengikuti Lomba CAK NING UC 2024'\"]\n",
      "  Row 2: [\"'Hari/Tanggal'\", \"':     '\", \"'Rabu - Kamis/27 Maret - 18 April 2024'\"]\n",
      "  Row 3: [\"'Tempat\\\\n\\\\n'\", \"':\\\\n\\\\n'\", \"'Universitas Ciputra Surabaya'\"]\n"
     ]
    }
   ],
   "source": [
    "print(\"\\nTables:\")\n",
    "for table_index, table in enumerate(doc.tables):\n",
    "    print(f\"Table {table_index + 1}:\")\n",
    "    for row_index, row in enumerate(table.rows):\n",
    "        row_data = [repr(cell.text) for cell in row.cells]\n",
    "        print(f\"  Row {row_index + 1}: {row_data}\")"
   ]
  },
  {
   "cell_type": "code",
   "execution_count": 11,
   "metadata": {},
   "outputs": [
    {
     "name": "stdout",
     "output_type": "stream",
     "text": [
      "Changed: 'Surabaya, 27 Maret 2024' to 'Surabaya, 29 April 2024'\n",
      "Updated 'Nomor ST' from: 'No. : 00023H/UC-BMA/ST/III/2024\n",
      "' to: 'No. : 00026A/UC-BMA/ST/IV/2024\n",
      "'\n",
      "Saving Word document to: output_letters/kanvas light up/ST_Callista Virginia Budiarto (Kanvas International Poster Competition).docx\n",
      "Word document saved to output_letters/kanvas light up/ST_Callista Virginia Budiarto (Kanvas International Poster Competition).docx\n",
      "Changed: 'Surabaya, 29 April 2024' to 'Surabaya, 29 April 2024'\n",
      "Updated 'Nomor ST' from: 'No. : 00026A/UC-BMA/ST/IV/2024\n",
      "' to: 'No. : 00026A/UC-BMA/ST/IV/2024\n",
      "'\n",
      "Saving Word document to: output_letters/kanvas light up/ST_Kathleen Butenaers (Kanvas International Poster Competition).docx\n",
      "Word document saved to output_letters/kanvas light up/ST_Kathleen Butenaers (Kanvas International Poster Competition).docx\n",
      "Changed: 'Surabaya, 29 April 2024' to 'Surabaya, 29 April 2024'\n",
      "Updated 'Nomor ST' from: 'No. : 00026A/UC-BMA/ST/IV/2024\n",
      "' to: 'No. : 00026A/UC-BMA/ST/IV/2024\n",
      "'\n",
      "Saving Word document to: output_letters/kanvas light up/ST_Raihan Nur Shabrina (Kanvas International Poster Competition).docx\n",
      "Word document saved to output_letters/kanvas light up/ST_Raihan Nur Shabrina (Kanvas International Poster Competition).docx\n",
      "Changed: 'Surabaya, 29 April 2024' to 'Surabaya, 29 April 2024'\n",
      "Updated 'Nomor ST' from: 'No. : 00026A/UC-BMA/ST/IV/2024\n",
      "' to: 'No. : 00026A/UC-BMA/ST/IV/2024\n",
      "'\n",
      "Saving Word document to: output_letters/kanvas light up/ST_Marcella (Kanvas International Poster Competition).docx\n",
      "Word document saved to output_letters/kanvas light up/ST_Marcella (Kanvas International Poster Competition).docx\n",
      "Changed: 'Surabaya, 29 April 2024' to 'Surabaya, 29 April 2024'\n",
      "Updated 'Nomor ST' from: 'No. : 00026A/UC-BMA/ST/IV/2024\n",
      "' to: 'No. : 00026A/UC-BMA/ST/IV/2024\n",
      "'\n",
      "Saving Word document to: output_letters/kanvas light up/ST_Marcella Calisya Howard (Kanvas International Poster Competition).docx\n",
      "Word document saved to output_letters/kanvas light up/ST_Marcella Calisya Howard (Kanvas International Poster Competition).docx\n",
      "Changed: 'Surabaya, 29 April 2024' to 'Surabaya, 29 April 2024'\n",
      "Updated 'Nomor ST' from: 'No. : 00026A/UC-BMA/ST/IV/2024\n",
      "' to: 'No. : 00026A/UC-BMA/ST/IV/2024\n",
      "'\n",
      "Saving Word document to: output_letters/kanvas light up/ST_Kezia Tjahjono Surja (Kanvas International Poster Competition).docx\n",
      "Word document saved to output_letters/kanvas light up/ST_Kezia Tjahjono Surja (Kanvas International Poster Competition).docx\n",
      "Changed: 'Surabaya, 29 April 2024' to 'Surabaya, 29 April 2024'\n",
      "Updated 'Nomor ST' from: 'No. : 00026A/UC-BMA/ST/IV/2024\n",
      "' to: 'No. : 00026A/UC-BMA/ST/IV/2024\n",
      "'\n",
      "Saving Word document to: output_letters/kanvas light up/ST_Ivana Benita Aileen (Kanvas International Poster Competition).docx\n",
      "Word document saved to output_letters/kanvas light up/ST_Ivana Benita Aileen (Kanvas International Poster Competition).docx\n",
      "Changed: 'Surabaya, 29 April 2024' to 'Surabaya, 29 April 2024'\n",
      "Updated 'Nomor ST' from: 'No. : 00026A/UC-BMA/ST/IV/2024\n",
      "' to: 'No. : 00026A/UC-BMA/ST/IV/2024\n",
      "'\n",
      "Saving Word document to: output_letters/kanvas light up/ST_Felita Halim (Kanvas International Poster Competition).docx\n",
      "Word document saved to output_letters/kanvas light up/ST_Felita Halim (Kanvas International Poster Competition).docx\n",
      "Changed: 'Surabaya, 29 April 2024' to 'Surabaya, 29 April 2024'\n",
      "Updated 'Nomor ST' from: 'No. : 00026A/UC-BMA/ST/IV/2024\n",
      "' to: 'No. : 00026A/UC-BMA/ST/IV/2024\n",
      "'\n",
      "Saving Word document to: output_letters/kanvas light up/ST_Callista Fortune (Kanvas International Poster Competition).docx\n",
      "Word document saved to output_letters/kanvas light up/ST_Callista Fortune (Kanvas International Poster Competition).docx\n",
      "Changed: 'Surabaya, 29 April 2024' to 'Surabaya, 29 April 2024'\n",
      "Updated 'Nomor ST' from: 'No. : 00026A/UC-BMA/ST/IV/2024\n",
      "' to: 'No. : 00026A/UC-BMA/ST/IV/2024\n",
      "'\n",
      "Saving Word document to: output_letters/kanvas light up/ST_Afifa Nur Septiarini Adellia (Kanvas International Poster Competition).docx\n",
      "Word document saved to output_letters/kanvas light up/ST_Afifa Nur Septiarini Adellia (Kanvas International Poster Competition).docx\n",
      "Changed: 'Surabaya, 29 April 2024' to 'Surabaya, 29 April 2024'\n",
      "Updated 'Nomor ST' from: 'No. : 00026A/UC-BMA/ST/IV/2024\n",
      "' to: 'No. : 00026A/UC-BMA/ST/IV/2024\n",
      "'\n",
      "Saving Word document to: output_letters/kanvas light up/ST_calista aurora widjaja (Kanvas International Poster Competition).docx\n",
      "Word document saved to output_letters/kanvas light up/ST_calista aurora widjaja (Kanvas International Poster Competition).docx\n"
     ]
    }
   ],
   "source": [
    "for index, row in data.iterrows():\n",
    "    table = doc.tables[1]\n",
    "    \n",
    "    for _ in range(len(table.rows) - 1):\n",
    "        table._tbl.remove(table.rows[1]._tr)\n",
    "    \n",
    "    lecturer_name = row['Nama Dosen PA']\n",
    "    lecturer_nidn = row['NIDN Dosen PA']\n",
    "\n",
    "    # Add lecturer information\n",
    "    lecturer_row = table.add_row().cells\n",
    "    lecturer_row[0].text = \"1\"  # No\n",
    "    lecturer_row[1].text = lecturer_name  # Nama\n",
    "    lecturer_row[2].text = str(lecturer_nidn)  # NIM/NIK\n",
    "    lecturer_row[3].text = \"Dosen Pendamping\"  # Departemen/Prodi\n",
    "    \n",
    "    student_name = row['Name']\n",
    "    student_nis = row['NIS']\n",
    "    student_department = row['Major']\n",
    "        \n",
    "    # Add student information\n",
    "    student_row = table.add_row().cells\n",
    "    student_row[0].text = \"2\"  # N\n",
    "    student_row[1].text = student_name  # Nama\n",
    "    student_row[2].text = str(student_nis)  # NIM/NIK\n",
    "    student_row[3].text = student_department  # Departemen/Prodi\n",
    "    \n",
    "    info_table = doc.tables[2]\n",
    "\n",
    "    if len(info_table.rows) > 0:\n",
    "        tugas_cell = info_table.rows[0].cells[2]\n",
    "        tugas_cell.text = f\"Mengikuti {row['Activity']}\"\n",
    "\n",
    "    if len(info_table.rows) > 1:\n",
    "        haritanggal_cell = info_table.rows[1].cells[2]\n",
    "        haritanggal_cell.text = format_dates(row)\n",
    "        \n",
    "    if len(info_table.rows) > 1:\n",
    "        lokasi_cell = info_table.rows[2].cells[2]\n",
    "        lokasi_cell.text = f\"Online\"\n",
    "    \n",
    "    replace_surabaya_paragraph(doc, row)\n",
    "    \n",
    "    for paragraph in doc.paragraphs:\n",
    "        if \"No. :\" in paragraph.text:  # Match paragraphs with \"No. :\"\n",
    "            old_text = paragraph.text\n",
    "            # Use a regex to replace the entire identifier after \"No. :\"\n",
    "            new_text = re.sub(r\"No\\. :\\s*[\\w/-]+\", f\"No. : {row['Nomor ST']}\", old_text)\n",
    "            paragraph.text = new_text\n",
    "            print(f\"Updated 'Nomor ST' from: '{old_text}' to: '{paragraph.text}'\")\n",
    "\n",
    "\n",
    "    # Save the updated document\n",
    "    sanitized_name = sanitize_filename(row['Name'])\n",
    "    sanitized_activity = sanitize_filename(row['Activity'])\n",
    "    indv_output_path = f\"{indv_output_folder}/ST_{sanitized_name} ({sanitized_activity}).docx\"\n",
    "    \n",
    "    print(f\"Saving Word document to: {indv_output_path}\")  \n",
    "    \n",
    "    doc.save(indv_output_path)\n",
    "    print(f\"Word document saved to {indv_output_path}\")"
   ]
  }
 ],
 "metadata": {
  "kernelspec": {
   "display_name": "Python 3",
   "language": "python",
   "name": "python3"
  },
  "language_info": {
   "codemirror_mode": {
    "name": "ipython",
    "version": 3
   },
   "file_extension": ".py",
   "mimetype": "text/x-python",
   "name": "python",
   "nbconvert_exporter": "python",
   "pygments_lexer": "ipython3",
   "version": "3.11.0"
  }
 },
 "nbformat": 4,
 "nbformat_minor": 2
}
