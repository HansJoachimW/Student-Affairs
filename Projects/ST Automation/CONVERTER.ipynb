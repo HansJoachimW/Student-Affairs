{
 "cells": [
  {
   "cell_type": "code",
   "execution_count": 1,
   "metadata": {},
   "outputs": [],
   "source": [
    "import os\n",
    "from win32com.client import Dispatch"
   ]
  },
  {
   "cell_type": "code",
   "execution_count": 2,
   "metadata": {},
   "outputs": [],
   "source": [
    "def convert_all_docx_to_pdf(input_folder, output_folder):\n",
    "    try:\n",
    "        if not os.path.exists(output_folder):\n",
    "            os.makedirs(output_folder)\n",
    "\n",
    "        word = Dispatch('Word.Application')\n",
    "        word.Visible = False\n",
    "\n",
    "        for file_name in os.listdir(input_folder):\n",
    "            if file_name.endswith(\".docx\"):\n",
    "                input_file = os.path.join(input_folder, file_name)\n",
    "                print(f\"Processing file: {input_file}\")\n",
    "                \n",
    "                base_name = os.path.splitext(file_name)[0]\n",
    "                \n",
    "                output_file = os.path.join(output_folder, f\"{base_name}.pdf\")\n",
    "                \n",
    "                doc = word.Documents.Open(input_file)\n",
    "                \n",
    "                # Export as PDF\n",
    "                doc.SaveAs(output_file, FileFormat=17)  # 17 is the FileFormat for PDF\n",
    "                doc.Close()\n",
    "                print(f\"Converted {input_file} to {output_file}\")\n",
    "\n",
    "        word.Quit()\n",
    "    except Exception as e:\n",
    "        print(f\"Error: {e}\")"
   ]
  },
  {
   "cell_type": "code",
   "execution_count": 3,
   "metadata": {},
   "outputs": [
    {
     "name": "stdout",
     "output_type": "stream",
     "text": [
      "Processing file: C:\\Users\\hansj\\OneDrive\\Documents\\Student Affairs\\Projects\\ST Automation\\output_letters\\final\\team\\ST_Team_Justin Stewart Sugiarto (EH SPORT).docx\n",
      "Converted C:\\Users\\hansj\\OneDrive\\Documents\\Student Affairs\\Projects\\ST Automation\\output_letters\\final\\team\\ST_Team_Justin Stewart Sugiarto (EH SPORT).docx to C:\\Users\\hansj\\OneDrive\\Documents\\Student Affairs\\Projects\\ST Automation\\output_letters\\pdf\\final\\team\\ST_Team_Justin Stewart Sugiarto (EH SPORT).pdf\n",
      "Processing file: C:\\Users\\hansj\\OneDrive\\Documents\\Student Affairs\\Projects\\ST Automation\\output_letters\\final\\team\\ST_Team_Valentino Limbang Jaya (CESt Business Plan Competition).docx\n",
      "Converted C:\\Users\\hansj\\OneDrive\\Documents\\Student Affairs\\Projects\\ST Automation\\output_letters\\final\\team\\ST_Team_Valentino Limbang Jaya (CESt Business Plan Competition).docx to C:\\Users\\hansj\\OneDrive\\Documents\\Student Affairs\\Projects\\ST Automation\\output_letters\\pdf\\final\\team\\ST_Team_Valentino Limbang Jaya (CESt Business Plan Competition).pdf\n"
     ]
    }
   ],
   "source": [
    "input_folder = r\"C:\\Users\\hansj\\OneDrive\\Documents\\Student Affairs\\Projects\\ST Automation\\output_letters\\final\\team\"  # Replace with your .docx file folder\n",
    "output_folder = r\"C:\\Users\\hansj\\OneDrive\\Documents\\Student Affairs\\Projects\\ST Automation\\output_letters\\pdf\\final\\team\"  # Specify the output folder\n",
    "convert_all_docx_to_pdf(input_folder, output_folder)"
   ]
  }
 ],
 "metadata": {
  "kernelspec": {
   "display_name": "Python 3",
   "language": "python",
   "name": "python3"
  },
  "language_info": {
   "codemirror_mode": {
    "name": "ipython",
    "version": 3
   },
   "file_extension": ".py",
   "mimetype": "text/x-python",
   "name": "python",
   "nbconvert_exporter": "python",
   "pygments_lexer": "ipython3",
   "version": "3.11.0"
  }
 },
 "nbformat": 4,
 "nbformat_minor": 2
}
