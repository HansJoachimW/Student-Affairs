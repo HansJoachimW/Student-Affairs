{
 "cells": [
  {
   "cell_type": "code",
   "execution_count": 9,
   "metadata": {},
   "outputs": [],
   "source": [
    "import pandas as pd"
   ]
  },
  {
   "cell_type": "code",
   "execution_count": 10,
   "metadata": {},
   "outputs": [],
   "source": [
    "file1 = 'Monev.xlsx'  # Replace with your older file path\n",
    "file2 = 'new.xlsx'  # Replace with your updated file path"
   ]
  },
  {
   "cell_type": "code",
   "execution_count": 12,
   "metadata": {},
   "outputs": [],
   "source": [
    "df1 = pd.read_excel(file1, header=0, sheet_name=\"Worksheet (Backup)\")\n",
    "df2 = pd.read_excel(file2, header=0, sheet_name=\"Worksheet\")\n",
    "\n",
    "trx_code_df1 = df1['Proposal No']\n",
    "trx_code_df2 = df2['Proposal No']"
   ]
  },
  {
   "cell_type": "code",
   "execution_count": 13,
   "metadata": {},
   "outputs": [],
   "source": [
    "new_trx_codes = trx_code_df2[~trx_code_df2.isin(trx_code_df1)]"
   ]
  },
  {
   "cell_type": "code",
   "execution_count": 15,
   "metadata": {},
   "outputs": [
    {
     "name": "stdout",
     "output_type": "stream",
     "text": [
      "Added rows based on 'Trx Code' saved to 'added_rows.xlsx'.\n"
     ]
    }
   ],
   "source": [
    "added_rows = df2[df2['Proposal No'].isin(new_trx_codes)]\n",
    "\n",
    "# Save the added rows to a new Excel file\n",
    "added_rows.to_excel('added_rows.xlsx', index=False)\n",
    "\n",
    "print(\"Added rows based on 'Trx Code' saved to 'added_rows.xlsx'.\")"
   ]
  }
 ],
 "metadata": {
  "kernelspec": {
   "display_name": "Python 3",
   "language": "python",
   "name": "python3"
  },
  "language_info": {
   "codemirror_mode": {
    "name": "ipython",
    "version": 3
   },
   "file_extension": ".py",
   "mimetype": "text/x-python",
   "name": "python",
   "nbconvert_exporter": "python",
   "pygments_lexer": "ipython3",
   "version": "3.11.0"
  }
 },
 "nbformat": 4,
 "nbformat_minor": 2
}
