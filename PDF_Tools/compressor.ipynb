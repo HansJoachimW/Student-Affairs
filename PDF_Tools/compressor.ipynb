{
 "cells": [
  {
   "cell_type": "code",
   "execution_count": 1,
   "metadata": {},
   "outputs": [],
   "source": [
    "import pikepdf\n",
    "from pdf2image import convert_from_path\n",
    "from PIL import Image\n",
    "import io"
   ]
  },
  {
   "cell_type": "code",
   "execution_count": 2,
   "metadata": {},
   "outputs": [],
   "source": [
    "def compress_pdf(input_pdf_path, output_pdf_path, image_quality=75, resize_factor=0.5):\n",
    "    # Step 1: Convert PDF to images using pdf2image\n",
    "    images = convert_from_path(input_pdf_path)\n",
    "    \n",
    "    # Step 2: Compress and downsample images using Pillow\n",
    "    compressed_images = []\n",
    "    for img in images:\n",
    "        # Resize the image (downsample)\n",
    "        img_resized = img.resize(\n",
    "            (int(img.width * resize_factor), int(img.height * resize_factor)),\n",
    "            Image.Resampling.LANCZOS\n",
    "        )\n",
    "        \n",
    "        # Compress image (adjust quality)\n",
    "        with io.BytesIO() as output_stream:\n",
    "            img_resized.save(output_stream, format=\"JPEG\", quality=image_quality)\n",
    "            compressed_images.append(output_stream.getvalue())\n",
    "\n",
    "    # Step 3: Rebuild the PDF with the compressed images\n",
    "    with pikepdf.open(input_pdf_path) as pdf:\n",
    "        # Remove old images and replace with compressed ones\n",
    "        new_pdf = pikepdf.new()\n",
    "        \n",
    "        for page, compressed_image in zip(pdf.pages, compressed_images):\n",
    "            # Create a new page with the compressed image\n",
    "            page_copy = new_pdf.pages.add()\n",
    "            page_copy.images['image'] = compressed_image\n",
    "            new_pdf.pages.append(page_copy)\n",
    "\n",
    "        # Save the new compressed PDF\n",
    "        new_pdf.save(output_pdf_path)\n",
    "\n",
    "    print(f\"Compressed PDF saved as {output_pdf_path}\")"
   ]
  },
  {
   "cell_type": "code",
   "execution_count": 3,
   "metadata": {},
   "outputs": [
    {
     "ename": "AttributeError",
     "evalue": "'pikepdf._core.PageList' object has no attribute 'add'",
     "output_type": "error",
     "traceback": [
      "\u001b[1;31m---------------------------------------------------------------------------\u001b[0m",
      "\u001b[1;31mAttributeError\u001b[0m                            Traceback (most recent call last)",
      "Cell \u001b[1;32mIn[3], line 3\u001b[0m\n\u001b[0;32m      1\u001b[0m input_pdf \u001b[38;5;241m=\u001b[39m \u001b[38;5;124m\"\u001b[39m\u001b[38;5;124micoen.pdf\u001b[39m\u001b[38;5;124m\"\u001b[39m\n\u001b[0;32m      2\u001b[0m output_pdf \u001b[38;5;241m=\u001b[39m \u001b[38;5;124m\"\u001b[39m\u001b[38;5;124moutput_compressed.pdf\u001b[39m\u001b[38;5;124m\"\u001b[39m\n\u001b[1;32m----> 3\u001b[0m \u001b[43mcompress_pdf\u001b[49m\u001b[43m(\u001b[49m\u001b[43minput_pdf\u001b[49m\u001b[43m,\u001b[49m\u001b[43m \u001b[49m\u001b[43moutput_pdf\u001b[49m\u001b[43m)\u001b[49m\n",
      "Cell \u001b[1;32mIn[2], line 26\u001b[0m, in \u001b[0;36mcompress_pdf\u001b[1;34m(input_pdf_path, output_pdf_path, image_quality, resize_factor)\u001b[0m\n\u001b[0;32m     22\u001b[0m new_pdf \u001b[38;5;241m=\u001b[39m pikepdf\u001b[38;5;241m.\u001b[39mnew()\n\u001b[0;32m     24\u001b[0m \u001b[38;5;28;01mfor\u001b[39;00m page, compressed_image \u001b[38;5;129;01min\u001b[39;00m \u001b[38;5;28mzip\u001b[39m(pdf\u001b[38;5;241m.\u001b[39mpages, compressed_images):\n\u001b[0;32m     25\u001b[0m     \u001b[38;5;66;03m# Create a new page with the compressed image\u001b[39;00m\n\u001b[1;32m---> 26\u001b[0m     page_copy \u001b[38;5;241m=\u001b[39m \u001b[43mnew_pdf\u001b[49m\u001b[38;5;241;43m.\u001b[39;49m\u001b[43mpages\u001b[49m\u001b[38;5;241;43m.\u001b[39;49m\u001b[43madd\u001b[49m()\n\u001b[0;32m     27\u001b[0m     page_copy\u001b[38;5;241m.\u001b[39mimages[\u001b[38;5;124m'\u001b[39m\u001b[38;5;124mimage\u001b[39m\u001b[38;5;124m'\u001b[39m] \u001b[38;5;241m=\u001b[39m compressed_image\n\u001b[0;32m     28\u001b[0m     new_pdf\u001b[38;5;241m.\u001b[39mpages\u001b[38;5;241m.\u001b[39mappend(page_copy)\n",
      "\u001b[1;31mAttributeError\u001b[0m: 'pikepdf._core.PageList' object has no attribute 'add'"
     ]
    }
   ],
   "source": [
    "input_pdf = \"icoen.pdf\"\n",
    "output_pdf = \"output_compressed.pdf\"\n",
    "compress_pdf(input_pdf, output_pdf)"
   ]
  }
 ],
 "metadata": {
  "kernelspec": {
   "display_name": "Python 3",
   "language": "python",
   "name": "python3"
  },
  "language_info": {
   "codemirror_mode": {
    "name": "ipython",
    "version": 3
   },
   "file_extension": ".py",
   "mimetype": "text/x-python",
   "name": "python",
   "nbconvert_exporter": "python",
   "pygments_lexer": "ipython3",
   "version": "3.11.0"
  }
 },
 "nbformat": 4,
 "nbformat_minor": 2
}
